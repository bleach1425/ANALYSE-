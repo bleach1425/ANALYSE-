{
 "cells": [
  {
   "cell_type": "code",
   "execution_count": 65,
   "metadata": {},
   "outputs": [
    {
     "data": {
      "text/html": [
       "        <script type=\"text/javascript\">\n",
       "        window.PlotlyConfig = {MathJaxConfig: 'local'};\n",
       "        if (window.MathJax) {MathJax.Hub.Config({SVG: {font: \"STIX-Web\"}});}\n",
       "        if (typeof require !== 'undefined') {\n",
       "        require.undef(\"plotly\");\n",
       "        requirejs.config({\n",
       "            paths: {\n",
       "                'plotly': ['https://cdn.plot.ly/plotly-latest.min']\n",
       "            }\n",
       "        });\n",
       "        require(['plotly'], function(Plotly) {\n",
       "            window._Plotly = Plotly;\n",
       "        });\n",
       "        }\n",
       "        </script>\n",
       "        "
      ]
     },
     "metadata": {},
     "output_type": "display_data"
    }
   ],
   "source": [
    "import pandas as pd\n",
    "import matplotlib.pyplot as plt\n",
    "import numpy as np\n",
    "%matplotlib inline\n",
    "import seaborn as sns\n",
    "import plotly.offline as py\n",
    "py.init_notebook_mode(connected=True)\n",
    "import plotly.graph_objs as go\n",
    "import plotly.tools as tls\n",
    "import plotly.figure_factory as ff\n",
    "\n",
    "df = pd.read_csv(\"hahow_course.csv\")"
   ]
  },
  {
   "cell_type": "code",
   "execution_count": 66,
   "metadata": {},
   "outputs": [],
   "source": [
    "to_date = [\"proposal\", \"incubate\", \"estimateStart\"]\n",
    "for n in to_date:\n",
    "    df[n] = pd.to_datetime(df[n]).apply(lambda x:x.date())"
   ]
  },
  {
   "cell_type": "code",
   "execution_count": 67,
   "metadata": {},
   "outputs": [],
   "source": [
    "df['pro_month'] = df.proposal.apply(lambda x:x.month)\n",
    "df['have'] = 1"
   ]
  },
  {
   "cell_type": "code",
   "execution_count": 68,
   "metadata": {
    "scrolled": true
   },
   "outputs": [
    {
     "data": {
      "text/html": [
       "<div>\n",
       "<style scoped>\n",
       "    .dataframe tbody tr th:only-of-type {\n",
       "        vertical-align: middle;\n",
       "    }\n",
       "\n",
       "    .dataframe tbody tr th {\n",
       "        vertical-align: top;\n",
       "    }\n",
       "\n",
       "    .dataframe thead th {\n",
       "        text-align: right;\n",
       "    }\n",
       "</style>\n",
       "<table border=\"1\" class=\"dataframe\">\n",
       "  <thead>\n",
       "    <tr style=\"text-align: right;\">\n",
       "      <th></th>\n",
       "      <th>Unnamed: 0</th>\n",
       "      <th>title</th>\n",
       "      <th>author</th>\n",
       "      <th>proposal</th>\n",
       "      <th>incubate</th>\n",
       "      <th>estimateStart</th>\n",
       "      <th>startCapital</th>\n",
       "      <th>types</th>\n",
       "      <th>ratings</th>\n",
       "      <th>avg_ratings</th>\n",
       "      <th>isReject</th>\n",
       "      <th>successCriti</th>\n",
       "      <th>prePrice</th>\n",
       "      <th>price</th>\n",
       "      <th>review</th>\n",
       "      <th>status</th>\n",
       "      <th>solidTickets</th>\n",
       "      <th>pro_month</th>\n",
       "      <th>have</th>\n",
       "    </tr>\n",
       "  </thead>\n",
       "  <tbody>\n",
       "    <tr>\n",
       "      <th>0</th>\n",
       "      <td>0</td>\n",
       "      <td>LeonTV 空中網球課 - 學會擊球，享受比賽</td>\n",
       "      <td>Leon Tsai</td>\n",
       "      <td>2019-11-07</td>\n",
       "      <td>2019-10-09</td>\n",
       "      <td>2020-01-06</td>\n",
       "      <td>2019-10-09T04:00:00.000Z</td>\n",
       "      <td>['DIGITAL']</td>\n",
       "      <td>0</td>\n",
       "      <td>0.0</td>\n",
       "      <td>False</td>\n",
       "      <td>30</td>\n",
       "      <td>1290</td>\n",
       "      <td>1990</td>\n",
       "      <td>False</td>\n",
       "      <td>INCUBATING</td>\n",
       "      <td>0</td>\n",
       "      <td>11</td>\n",
       "      <td>1</td>\n",
       "    </tr>\n",
       "    <tr>\n",
       "      <th>1</th>\n",
       "      <td>1</td>\n",
       "      <td>生活要清爽：讓空間煥然一新的整理收納課</td>\n",
       "      <td>欣講堂 xinforum</td>\n",
       "      <td>2019-11-06</td>\n",
       "      <td>2019-10-08</td>\n",
       "      <td>2020-01-05</td>\n",
       "      <td>2019-10-08T02:00:00.000Z</td>\n",
       "      <td>['DIGITAL']</td>\n",
       "      <td>0</td>\n",
       "      <td>0.0</td>\n",
       "      <td>False</td>\n",
       "      <td>30</td>\n",
       "      <td>1200</td>\n",
       "      <td>1580</td>\n",
       "      <td>False</td>\n",
       "      <td>INCUBATING</td>\n",
       "      <td>17</td>\n",
       "      <td>11</td>\n",
       "      <td>1</td>\n",
       "    </tr>\n",
       "    <tr>\n",
       "      <th>2</th>\n",
       "      <td>2</td>\n",
       "      <td>利息養成現金流：債券入門投資術</td>\n",
       "      <td>Z</td>\n",
       "      <td>2019-11-01</td>\n",
       "      <td>2019-10-03</td>\n",
       "      <td>2019-12-31</td>\n",
       "      <td>NaN</td>\n",
       "      <td>[]</td>\n",
       "      <td>0</td>\n",
       "      <td>0.0</td>\n",
       "      <td>False</td>\n",
       "      <td>30</td>\n",
       "      <td>1288</td>\n",
       "      <td>1990</td>\n",
       "      <td>False</td>\n",
       "      <td>INCUBATING</td>\n",
       "      <td>28</td>\n",
       "      <td>11</td>\n",
       "      <td>1</td>\n",
       "    </tr>\n",
       "    <tr>\n",
       "      <th>3</th>\n",
       "      <td>3</td>\n",
       "      <td>Dropshipping 電商創業 - 零庫存跨境電商</td>\n",
       "      <td>Michael Lin</td>\n",
       "      <td>2019-10-31</td>\n",
       "      <td>2019-10-02</td>\n",
       "      <td>2019-12-30</td>\n",
       "      <td>NaN</td>\n",
       "      <td>[]</td>\n",
       "      <td>0</td>\n",
       "      <td>0.0</td>\n",
       "      <td>False</td>\n",
       "      <td>30</td>\n",
       "      <td>1800</td>\n",
       "      <td>2900</td>\n",
       "      <td>False</td>\n",
       "      <td>INCUBATING</td>\n",
       "      <td>6</td>\n",
       "      <td>10</td>\n",
       "      <td>1</td>\n",
       "    </tr>\n",
       "    <tr>\n",
       "      <th>4</th>\n",
       "      <td>4</td>\n",
       "      <td>行銷業務動態儀表板與報告 - Power BI 應用</td>\n",
       "      <td>周勝輝</td>\n",
       "      <td>2019-10-30</td>\n",
       "      <td>2019-10-01</td>\n",
       "      <td>2019-12-29</td>\n",
       "      <td>NaN</td>\n",
       "      <td>[]</td>\n",
       "      <td>0</td>\n",
       "      <td>0.0</td>\n",
       "      <td>False</td>\n",
       "      <td>30</td>\n",
       "      <td>1450</td>\n",
       "      <td>2500</td>\n",
       "      <td>False</td>\n",
       "      <td>INCUBATING</td>\n",
       "      <td>5</td>\n",
       "      <td>10</td>\n",
       "      <td>1</td>\n",
       "    </tr>\n",
       "  </tbody>\n",
       "</table>\n",
       "</div>"
      ],
      "text/plain": [
       "   Unnamed: 0                        title        author    proposal  \\\n",
       "0           0     LeonTV 空中網球課 - 學會擊球，享受比賽     Leon Tsai  2019-11-07   \n",
       "1           1          生活要清爽：讓空間煥然一新的整理收納課  欣講堂 xinforum  2019-11-06   \n",
       "2           2              利息養成現金流：債券入門投資術             Z  2019-11-01   \n",
       "3           3  Dropshipping 電商創業 - 零庫存跨境電商   Michael Lin  2019-10-31   \n",
       "4           4   行銷業務動態儀表板與報告 - Power BI 應用           周勝輝  2019-10-30   \n",
       "\n",
       "     incubate estimateStart              startCapital        types  ratings  \\\n",
       "0  2019-10-09    2020-01-06  2019-10-09T04:00:00.000Z  ['DIGITAL']        0   \n",
       "1  2019-10-08    2020-01-05  2019-10-08T02:00:00.000Z  ['DIGITAL']        0   \n",
       "2  2019-10-03    2019-12-31                       NaN           []        0   \n",
       "3  2019-10-02    2019-12-30                       NaN           []        0   \n",
       "4  2019-10-01    2019-12-29                       NaN           []        0   \n",
       "\n",
       "   avg_ratings  isReject  successCriti  prePrice  price  review      status  \\\n",
       "0          0.0     False            30      1290   1990   False  INCUBATING   \n",
       "1          0.0     False            30      1200   1580   False  INCUBATING   \n",
       "2          0.0     False            30      1288   1990   False  INCUBATING   \n",
       "3          0.0     False            30      1800   2900   False  INCUBATING   \n",
       "4          0.0     False            30      1450   2500   False  INCUBATING   \n",
       "\n",
       "   solidTickets  pro_month  have  \n",
       "0             0         11     1  \n",
       "1            17         11     1  \n",
       "2            28         11     1  \n",
       "3             6         10     1  \n",
       "4             5         10     1  "
      ]
     },
     "execution_count": 68,
     "metadata": {},
     "output_type": "execute_result"
    }
   ],
   "source": [
    "df.head()"
   ]
  },
  {
   "cell_type": "code",
   "execution_count": 69,
   "metadata": {},
   "outputs": [
    {
     "data": {
      "text/plain": [
       "0      11\n",
       "1      11\n",
       "2      11\n",
       "3      10\n",
       "4      10\n",
       "       ..\n",
       "379     5\n",
       "380     5\n",
       "381     4\n",
       "382     4\n",
       "383     3\n",
       "Name: pro_month, Length: 384, dtype: int64"
      ]
     },
     "execution_count": 69,
     "metadata": {},
     "output_type": "execute_result"
    }
   ],
   "source": [
    "df['pro_month']"
   ]
  },
  {
   "cell_type": "code",
   "execution_count": 70,
   "metadata": {},
   "outputs": [
    {
     "data": {
      "application/vnd.plotly.v1+json": {
       "config": {
        "linkText": "Export to plot.ly",
        "plotlyServerURL": "https://plot.ly",
        "showLink": false
       },
       "data": [
        {
         "type": "scatter",
         "x": [
          1,
          2,
          3,
          4,
          5,
          6,
          7,
          8,
          9,
          10,
          11,
          12
         ],
         "y": [
          31,
          30,
          25,
          25,
          32,
          34,
          40,
          35,
          37,
          45,
          29,
          21
         ]
        }
       ],
       "layout": {
        "template": {
         "data": {
          "bar": [
           {
            "error_x": {
             "color": "#2a3f5f"
            },
            "error_y": {
             "color": "#2a3f5f"
            },
            "marker": {
             "line": {
              "color": "#E5ECF6",
              "width": 0.5
             }
            },
            "type": "bar"
           }
          ],
          "barpolar": [
           {
            "marker": {
             "line": {
              "color": "#E5ECF6",
              "width": 0.5
             }
            },
            "type": "barpolar"
           }
          ],
          "carpet": [
           {
            "aaxis": {
             "endlinecolor": "#2a3f5f",
             "gridcolor": "white",
             "linecolor": "white",
             "minorgridcolor": "white",
             "startlinecolor": "#2a3f5f"
            },
            "baxis": {
             "endlinecolor": "#2a3f5f",
             "gridcolor": "white",
             "linecolor": "white",
             "minorgridcolor": "white",
             "startlinecolor": "#2a3f5f"
            },
            "type": "carpet"
           }
          ],
          "choropleth": [
           {
            "colorbar": {
             "outlinewidth": 0,
             "ticks": ""
            },
            "type": "choropleth"
           }
          ],
          "contour": [
           {
            "colorbar": {
             "outlinewidth": 0,
             "ticks": ""
            },
            "colorscale": [
             [
              0,
              "#0d0887"
             ],
             [
              0.1111111111111111,
              "#46039f"
             ],
             [
              0.2222222222222222,
              "#7201a8"
             ],
             [
              0.3333333333333333,
              "#9c179e"
             ],
             [
              0.4444444444444444,
              "#bd3786"
             ],
             [
              0.5555555555555556,
              "#d8576b"
             ],
             [
              0.6666666666666666,
              "#ed7953"
             ],
             [
              0.7777777777777778,
              "#fb9f3a"
             ],
             [
              0.8888888888888888,
              "#fdca26"
             ],
             [
              1,
              "#f0f921"
             ]
            ],
            "type": "contour"
           }
          ],
          "contourcarpet": [
           {
            "colorbar": {
             "outlinewidth": 0,
             "ticks": ""
            },
            "type": "contourcarpet"
           }
          ],
          "heatmap": [
           {
            "colorbar": {
             "outlinewidth": 0,
             "ticks": ""
            },
            "colorscale": [
             [
              0,
              "#0d0887"
             ],
             [
              0.1111111111111111,
              "#46039f"
             ],
             [
              0.2222222222222222,
              "#7201a8"
             ],
             [
              0.3333333333333333,
              "#9c179e"
             ],
             [
              0.4444444444444444,
              "#bd3786"
             ],
             [
              0.5555555555555556,
              "#d8576b"
             ],
             [
              0.6666666666666666,
              "#ed7953"
             ],
             [
              0.7777777777777778,
              "#fb9f3a"
             ],
             [
              0.8888888888888888,
              "#fdca26"
             ],
             [
              1,
              "#f0f921"
             ]
            ],
            "type": "heatmap"
           }
          ],
          "heatmapgl": [
           {
            "colorbar": {
             "outlinewidth": 0,
             "ticks": ""
            },
            "colorscale": [
             [
              0,
              "#0d0887"
             ],
             [
              0.1111111111111111,
              "#46039f"
             ],
             [
              0.2222222222222222,
              "#7201a8"
             ],
             [
              0.3333333333333333,
              "#9c179e"
             ],
             [
              0.4444444444444444,
              "#bd3786"
             ],
             [
              0.5555555555555556,
              "#d8576b"
             ],
             [
              0.6666666666666666,
              "#ed7953"
             ],
             [
              0.7777777777777778,
              "#fb9f3a"
             ],
             [
              0.8888888888888888,
              "#fdca26"
             ],
             [
              1,
              "#f0f921"
             ]
            ],
            "type": "heatmapgl"
           }
          ],
          "histogram": [
           {
            "marker": {
             "colorbar": {
              "outlinewidth": 0,
              "ticks": ""
             }
            },
            "type": "histogram"
           }
          ],
          "histogram2d": [
           {
            "colorbar": {
             "outlinewidth": 0,
             "ticks": ""
            },
            "colorscale": [
             [
              0,
              "#0d0887"
             ],
             [
              0.1111111111111111,
              "#46039f"
             ],
             [
              0.2222222222222222,
              "#7201a8"
             ],
             [
              0.3333333333333333,
              "#9c179e"
             ],
             [
              0.4444444444444444,
              "#bd3786"
             ],
             [
              0.5555555555555556,
              "#d8576b"
             ],
             [
              0.6666666666666666,
              "#ed7953"
             ],
             [
              0.7777777777777778,
              "#fb9f3a"
             ],
             [
              0.8888888888888888,
              "#fdca26"
             ],
             [
              1,
              "#f0f921"
             ]
            ],
            "type": "histogram2d"
           }
          ],
          "histogram2dcontour": [
           {
            "colorbar": {
             "outlinewidth": 0,
             "ticks": ""
            },
            "colorscale": [
             [
              0,
              "#0d0887"
             ],
             [
              0.1111111111111111,
              "#46039f"
             ],
             [
              0.2222222222222222,
              "#7201a8"
             ],
             [
              0.3333333333333333,
              "#9c179e"
             ],
             [
              0.4444444444444444,
              "#bd3786"
             ],
             [
              0.5555555555555556,
              "#d8576b"
             ],
             [
              0.6666666666666666,
              "#ed7953"
             ],
             [
              0.7777777777777778,
              "#fb9f3a"
             ],
             [
              0.8888888888888888,
              "#fdca26"
             ],
             [
              1,
              "#f0f921"
             ]
            ],
            "type": "histogram2dcontour"
           }
          ],
          "mesh3d": [
           {
            "colorbar": {
             "outlinewidth": 0,
             "ticks": ""
            },
            "type": "mesh3d"
           }
          ],
          "parcoords": [
           {
            "line": {
             "colorbar": {
              "outlinewidth": 0,
              "ticks": ""
             }
            },
            "type": "parcoords"
           }
          ],
          "pie": [
           {
            "automargin": true,
            "type": "pie"
           }
          ],
          "scatter": [
           {
            "marker": {
             "colorbar": {
              "outlinewidth": 0,
              "ticks": ""
             }
            },
            "type": "scatter"
           }
          ],
          "scatter3d": [
           {
            "line": {
             "colorbar": {
              "outlinewidth": 0,
              "ticks": ""
             }
            },
            "marker": {
             "colorbar": {
              "outlinewidth": 0,
              "ticks": ""
             }
            },
            "type": "scatter3d"
           }
          ],
          "scattercarpet": [
           {
            "marker": {
             "colorbar": {
              "outlinewidth": 0,
              "ticks": ""
             }
            },
            "type": "scattercarpet"
           }
          ],
          "scattergeo": [
           {
            "marker": {
             "colorbar": {
              "outlinewidth": 0,
              "ticks": ""
             }
            },
            "type": "scattergeo"
           }
          ],
          "scattergl": [
           {
            "marker": {
             "colorbar": {
              "outlinewidth": 0,
              "ticks": ""
             }
            },
            "type": "scattergl"
           }
          ],
          "scattermapbox": [
           {
            "marker": {
             "colorbar": {
              "outlinewidth": 0,
              "ticks": ""
             }
            },
            "type": "scattermapbox"
           }
          ],
          "scatterpolar": [
           {
            "marker": {
             "colorbar": {
              "outlinewidth": 0,
              "ticks": ""
             }
            },
            "type": "scatterpolar"
           }
          ],
          "scatterpolargl": [
           {
            "marker": {
             "colorbar": {
              "outlinewidth": 0,
              "ticks": ""
             }
            },
            "type": "scatterpolargl"
           }
          ],
          "scatterternary": [
           {
            "marker": {
             "colorbar": {
              "outlinewidth": 0,
              "ticks": ""
             }
            },
            "type": "scatterternary"
           }
          ],
          "surface": [
           {
            "colorbar": {
             "outlinewidth": 0,
             "ticks": ""
            },
            "colorscale": [
             [
              0,
              "#0d0887"
             ],
             [
              0.1111111111111111,
              "#46039f"
             ],
             [
              0.2222222222222222,
              "#7201a8"
             ],
             [
              0.3333333333333333,
              "#9c179e"
             ],
             [
              0.4444444444444444,
              "#bd3786"
             ],
             [
              0.5555555555555556,
              "#d8576b"
             ],
             [
              0.6666666666666666,
              "#ed7953"
             ],
             [
              0.7777777777777778,
              "#fb9f3a"
             ],
             [
              0.8888888888888888,
              "#fdca26"
             ],
             [
              1,
              "#f0f921"
             ]
            ],
            "type": "surface"
           }
          ],
          "table": [
           {
            "cells": {
             "fill": {
              "color": "#EBF0F8"
             },
             "line": {
              "color": "white"
             }
            },
            "header": {
             "fill": {
              "color": "#C8D4E3"
             },
             "line": {
              "color": "white"
             }
            },
            "type": "table"
           }
          ]
         },
         "layout": {
          "annotationdefaults": {
           "arrowcolor": "#2a3f5f",
           "arrowhead": 0,
           "arrowwidth": 1
          },
          "coloraxis": {
           "colorbar": {
            "outlinewidth": 0,
            "ticks": ""
           }
          },
          "colorscale": {
           "diverging": [
            [
             0,
             "#8e0152"
            ],
            [
             0.1,
             "#c51b7d"
            ],
            [
             0.2,
             "#de77ae"
            ],
            [
             0.3,
             "#f1b6da"
            ],
            [
             0.4,
             "#fde0ef"
            ],
            [
             0.5,
             "#f7f7f7"
            ],
            [
             0.6,
             "#e6f5d0"
            ],
            [
             0.7,
             "#b8e186"
            ],
            [
             0.8,
             "#7fbc41"
            ],
            [
             0.9,
             "#4d9221"
            ],
            [
             1,
             "#276419"
            ]
           ],
           "sequential": [
            [
             0,
             "#0d0887"
            ],
            [
             0.1111111111111111,
             "#46039f"
            ],
            [
             0.2222222222222222,
             "#7201a8"
            ],
            [
             0.3333333333333333,
             "#9c179e"
            ],
            [
             0.4444444444444444,
             "#bd3786"
            ],
            [
             0.5555555555555556,
             "#d8576b"
            ],
            [
             0.6666666666666666,
             "#ed7953"
            ],
            [
             0.7777777777777778,
             "#fb9f3a"
            ],
            [
             0.8888888888888888,
             "#fdca26"
            ],
            [
             1,
             "#f0f921"
            ]
           ],
           "sequentialminus": [
            [
             0,
             "#0d0887"
            ],
            [
             0.1111111111111111,
             "#46039f"
            ],
            [
             0.2222222222222222,
             "#7201a8"
            ],
            [
             0.3333333333333333,
             "#9c179e"
            ],
            [
             0.4444444444444444,
             "#bd3786"
            ],
            [
             0.5555555555555556,
             "#d8576b"
            ],
            [
             0.6666666666666666,
             "#ed7953"
            ],
            [
             0.7777777777777778,
             "#fb9f3a"
            ],
            [
             0.8888888888888888,
             "#fdca26"
            ],
            [
             1,
             "#f0f921"
            ]
           ]
          },
          "colorway": [
           "#636efa",
           "#EF553B",
           "#00cc96",
           "#ab63fa",
           "#FFA15A",
           "#19d3f3",
           "#FF6692",
           "#B6E880",
           "#FF97FF",
           "#FECB52"
          ],
          "font": {
           "color": "#2a3f5f"
          },
          "geo": {
           "bgcolor": "white",
           "lakecolor": "white",
           "landcolor": "#E5ECF6",
           "showlakes": true,
           "showland": true,
           "subunitcolor": "white"
          },
          "hoverlabel": {
           "align": "left"
          },
          "hovermode": "closest",
          "mapbox": {
           "style": "light"
          },
          "paper_bgcolor": "white",
          "plot_bgcolor": "#E5ECF6",
          "polar": {
           "angularaxis": {
            "gridcolor": "white",
            "linecolor": "white",
            "ticks": ""
           },
           "bgcolor": "#E5ECF6",
           "radialaxis": {
            "gridcolor": "white",
            "linecolor": "white",
            "ticks": ""
           }
          },
          "scene": {
           "xaxis": {
            "backgroundcolor": "#E5ECF6",
            "gridcolor": "white",
            "gridwidth": 2,
            "linecolor": "white",
            "showbackground": true,
            "ticks": "",
            "zerolinecolor": "white"
           },
           "yaxis": {
            "backgroundcolor": "#E5ECF6",
            "gridcolor": "white",
            "gridwidth": 2,
            "linecolor": "white",
            "showbackground": true,
            "ticks": "",
            "zerolinecolor": "white"
           },
           "zaxis": {
            "backgroundcolor": "#E5ECF6",
            "gridcolor": "white",
            "gridwidth": 2,
            "linecolor": "white",
            "showbackground": true,
            "ticks": "",
            "zerolinecolor": "white"
           }
          },
          "shapedefaults": {
           "line": {
            "color": "#2a3f5f"
           }
          },
          "ternary": {
           "aaxis": {
            "gridcolor": "white",
            "linecolor": "white",
            "ticks": ""
           },
           "baxis": {
            "gridcolor": "white",
            "linecolor": "white",
            "ticks": ""
           },
           "bgcolor": "#E5ECF6",
           "caxis": {
            "gridcolor": "white",
            "linecolor": "white",
            "ticks": ""
           }
          },
          "title": {
           "x": 0.05
          },
          "xaxis": {
           "automargin": true,
           "gridcolor": "white",
           "linecolor": "white",
           "ticks": "",
           "title": {
            "standoff": 15
           },
           "zerolinecolor": "white",
           "zerolinewidth": 2
          },
          "yaxis": {
           "automargin": true,
           "gridcolor": "white",
           "linecolor": "white",
           "ticks": "",
           "title": {
            "standoff": 15
           },
           "zerolinecolor": "white",
           "zerolinewidth": 2
          }
         }
        },
        "title": {
         "text": "提案數量分佈"
        }
       }
      },
      "text/html": [
       "<div>\n",
       "        \n",
       "        \n",
       "            <div id=\"d1f2fd70-fef7-48ce-b1ea-c0eb4f4dae8f\" class=\"plotly-graph-div\" style=\"height:525px; width:100%;\"></div>\n",
       "            <script type=\"text/javascript\">\n",
       "                require([\"plotly\"], function(Plotly) {\n",
       "                    window.PLOTLYENV=window.PLOTLYENV || {};\n",
       "                    \n",
       "                if (document.getElementById(\"d1f2fd70-fef7-48ce-b1ea-c0eb4f4dae8f\")) {\n",
       "                    Plotly.newPlot(\n",
       "                        'd1f2fd70-fef7-48ce-b1ea-c0eb4f4dae8f',\n",
       "                        [{\"type\": \"scatter\", \"x\": [1, 2, 3, 4, 5, 6, 7, 8, 9, 10, 11, 12], \"y\": [31, 30, 25, 25, 32, 34, 40, 35, 37, 45, 29, 21]}],\n",
       "                        {\"template\": {\"data\": {\"bar\": [{\"error_x\": {\"color\": \"#2a3f5f\"}, \"error_y\": {\"color\": \"#2a3f5f\"}, \"marker\": {\"line\": {\"color\": \"#E5ECF6\", \"width\": 0.5}}, \"type\": \"bar\"}], \"barpolar\": [{\"marker\": {\"line\": {\"color\": \"#E5ECF6\", \"width\": 0.5}}, \"type\": \"barpolar\"}], \"carpet\": [{\"aaxis\": {\"endlinecolor\": \"#2a3f5f\", \"gridcolor\": \"white\", \"linecolor\": \"white\", \"minorgridcolor\": \"white\", \"startlinecolor\": \"#2a3f5f\"}, \"baxis\": {\"endlinecolor\": \"#2a3f5f\", \"gridcolor\": \"white\", \"linecolor\": \"white\", \"minorgridcolor\": \"white\", \"startlinecolor\": \"#2a3f5f\"}, \"type\": \"carpet\"}], \"choropleth\": [{\"colorbar\": {\"outlinewidth\": 0, \"ticks\": \"\"}, \"type\": \"choropleth\"}], \"contour\": [{\"colorbar\": {\"outlinewidth\": 0, \"ticks\": \"\"}, \"colorscale\": [[0.0, \"#0d0887\"], [0.1111111111111111, \"#46039f\"], [0.2222222222222222, \"#7201a8\"], [0.3333333333333333, \"#9c179e\"], [0.4444444444444444, \"#bd3786\"], [0.5555555555555556, \"#d8576b\"], [0.6666666666666666, \"#ed7953\"], [0.7777777777777778, \"#fb9f3a\"], [0.8888888888888888, \"#fdca26\"], [1.0, \"#f0f921\"]], \"type\": \"contour\"}], \"contourcarpet\": [{\"colorbar\": {\"outlinewidth\": 0, \"ticks\": \"\"}, \"type\": \"contourcarpet\"}], \"heatmap\": [{\"colorbar\": {\"outlinewidth\": 0, \"ticks\": \"\"}, \"colorscale\": [[0.0, \"#0d0887\"], [0.1111111111111111, \"#46039f\"], [0.2222222222222222, \"#7201a8\"], [0.3333333333333333, \"#9c179e\"], [0.4444444444444444, \"#bd3786\"], [0.5555555555555556, \"#d8576b\"], [0.6666666666666666, \"#ed7953\"], [0.7777777777777778, \"#fb9f3a\"], [0.8888888888888888, \"#fdca26\"], [1.0, \"#f0f921\"]], \"type\": \"heatmap\"}], \"heatmapgl\": [{\"colorbar\": {\"outlinewidth\": 0, \"ticks\": \"\"}, \"colorscale\": [[0.0, \"#0d0887\"], [0.1111111111111111, \"#46039f\"], [0.2222222222222222, \"#7201a8\"], [0.3333333333333333, \"#9c179e\"], [0.4444444444444444, \"#bd3786\"], [0.5555555555555556, \"#d8576b\"], [0.6666666666666666, \"#ed7953\"], [0.7777777777777778, \"#fb9f3a\"], [0.8888888888888888, \"#fdca26\"], [1.0, \"#f0f921\"]], \"type\": \"heatmapgl\"}], \"histogram\": [{\"marker\": {\"colorbar\": {\"outlinewidth\": 0, \"ticks\": \"\"}}, \"type\": \"histogram\"}], \"histogram2d\": [{\"colorbar\": {\"outlinewidth\": 0, \"ticks\": \"\"}, \"colorscale\": [[0.0, \"#0d0887\"], [0.1111111111111111, \"#46039f\"], [0.2222222222222222, \"#7201a8\"], [0.3333333333333333, \"#9c179e\"], [0.4444444444444444, \"#bd3786\"], [0.5555555555555556, \"#d8576b\"], [0.6666666666666666, \"#ed7953\"], [0.7777777777777778, \"#fb9f3a\"], [0.8888888888888888, \"#fdca26\"], [1.0, \"#f0f921\"]], \"type\": \"histogram2d\"}], \"histogram2dcontour\": [{\"colorbar\": {\"outlinewidth\": 0, \"ticks\": \"\"}, \"colorscale\": [[0.0, \"#0d0887\"], [0.1111111111111111, \"#46039f\"], [0.2222222222222222, \"#7201a8\"], [0.3333333333333333, \"#9c179e\"], [0.4444444444444444, \"#bd3786\"], [0.5555555555555556, \"#d8576b\"], [0.6666666666666666, \"#ed7953\"], [0.7777777777777778, \"#fb9f3a\"], [0.8888888888888888, \"#fdca26\"], [1.0, \"#f0f921\"]], \"type\": \"histogram2dcontour\"}], \"mesh3d\": [{\"colorbar\": {\"outlinewidth\": 0, \"ticks\": \"\"}, \"type\": \"mesh3d\"}], \"parcoords\": [{\"line\": {\"colorbar\": {\"outlinewidth\": 0, \"ticks\": \"\"}}, \"type\": \"parcoords\"}], \"pie\": [{\"automargin\": true, \"type\": \"pie\"}], \"scatter\": [{\"marker\": {\"colorbar\": {\"outlinewidth\": 0, \"ticks\": \"\"}}, \"type\": \"scatter\"}], \"scatter3d\": [{\"line\": {\"colorbar\": {\"outlinewidth\": 0, \"ticks\": \"\"}}, \"marker\": {\"colorbar\": {\"outlinewidth\": 0, \"ticks\": \"\"}}, \"type\": \"scatter3d\"}], \"scattercarpet\": [{\"marker\": {\"colorbar\": {\"outlinewidth\": 0, \"ticks\": \"\"}}, \"type\": \"scattercarpet\"}], \"scattergeo\": [{\"marker\": {\"colorbar\": {\"outlinewidth\": 0, \"ticks\": \"\"}}, \"type\": \"scattergeo\"}], \"scattergl\": [{\"marker\": {\"colorbar\": {\"outlinewidth\": 0, \"ticks\": \"\"}}, \"type\": \"scattergl\"}], \"scattermapbox\": [{\"marker\": {\"colorbar\": {\"outlinewidth\": 0, \"ticks\": \"\"}}, \"type\": \"scattermapbox\"}], \"scatterpolar\": [{\"marker\": {\"colorbar\": {\"outlinewidth\": 0, \"ticks\": \"\"}}, \"type\": \"scatterpolar\"}], \"scatterpolargl\": [{\"marker\": {\"colorbar\": {\"outlinewidth\": 0, \"ticks\": \"\"}}, \"type\": \"scatterpolargl\"}], \"scatterternary\": [{\"marker\": {\"colorbar\": {\"outlinewidth\": 0, \"ticks\": \"\"}}, \"type\": \"scatterternary\"}], \"surface\": [{\"colorbar\": {\"outlinewidth\": 0, \"ticks\": \"\"}, \"colorscale\": [[0.0, \"#0d0887\"], [0.1111111111111111, \"#46039f\"], [0.2222222222222222, \"#7201a8\"], [0.3333333333333333, \"#9c179e\"], [0.4444444444444444, \"#bd3786\"], [0.5555555555555556, \"#d8576b\"], [0.6666666666666666, \"#ed7953\"], [0.7777777777777778, \"#fb9f3a\"], [0.8888888888888888, \"#fdca26\"], [1.0, \"#f0f921\"]], \"type\": \"surface\"}], \"table\": [{\"cells\": {\"fill\": {\"color\": \"#EBF0F8\"}, \"line\": {\"color\": \"white\"}}, \"header\": {\"fill\": {\"color\": \"#C8D4E3\"}, \"line\": {\"color\": \"white\"}}, \"type\": \"table\"}]}, \"layout\": {\"annotationdefaults\": {\"arrowcolor\": \"#2a3f5f\", \"arrowhead\": 0, \"arrowwidth\": 1}, \"coloraxis\": {\"colorbar\": {\"outlinewidth\": 0, \"ticks\": \"\"}}, \"colorscale\": {\"diverging\": [[0, \"#8e0152\"], [0.1, \"#c51b7d\"], [0.2, \"#de77ae\"], [0.3, \"#f1b6da\"], [0.4, \"#fde0ef\"], [0.5, \"#f7f7f7\"], [0.6, \"#e6f5d0\"], [0.7, \"#b8e186\"], [0.8, \"#7fbc41\"], [0.9, \"#4d9221\"], [1, \"#276419\"]], \"sequential\": [[0.0, \"#0d0887\"], [0.1111111111111111, \"#46039f\"], [0.2222222222222222, \"#7201a8\"], [0.3333333333333333, \"#9c179e\"], [0.4444444444444444, \"#bd3786\"], [0.5555555555555556, \"#d8576b\"], [0.6666666666666666, \"#ed7953\"], [0.7777777777777778, \"#fb9f3a\"], [0.8888888888888888, \"#fdca26\"], [1.0, \"#f0f921\"]], \"sequentialminus\": [[0.0, \"#0d0887\"], [0.1111111111111111, \"#46039f\"], [0.2222222222222222, \"#7201a8\"], [0.3333333333333333, \"#9c179e\"], [0.4444444444444444, \"#bd3786\"], [0.5555555555555556, \"#d8576b\"], [0.6666666666666666, \"#ed7953\"], [0.7777777777777778, \"#fb9f3a\"], [0.8888888888888888, \"#fdca26\"], [1.0, \"#f0f921\"]]}, \"colorway\": [\"#636efa\", \"#EF553B\", \"#00cc96\", \"#ab63fa\", \"#FFA15A\", \"#19d3f3\", \"#FF6692\", \"#B6E880\", \"#FF97FF\", \"#FECB52\"], \"font\": {\"color\": \"#2a3f5f\"}, \"geo\": {\"bgcolor\": \"white\", \"lakecolor\": \"white\", \"landcolor\": \"#E5ECF6\", \"showlakes\": true, \"showland\": true, \"subunitcolor\": \"white\"}, \"hoverlabel\": {\"align\": \"left\"}, \"hovermode\": \"closest\", \"mapbox\": {\"style\": \"light\"}, \"paper_bgcolor\": \"white\", \"plot_bgcolor\": \"#E5ECF6\", \"polar\": {\"angularaxis\": {\"gridcolor\": \"white\", \"linecolor\": \"white\", \"ticks\": \"\"}, \"bgcolor\": \"#E5ECF6\", \"radialaxis\": {\"gridcolor\": \"white\", \"linecolor\": \"white\", \"ticks\": \"\"}}, \"scene\": {\"xaxis\": {\"backgroundcolor\": \"#E5ECF6\", \"gridcolor\": \"white\", \"gridwidth\": 2, \"linecolor\": \"white\", \"showbackground\": true, \"ticks\": \"\", \"zerolinecolor\": \"white\"}, \"yaxis\": {\"backgroundcolor\": \"#E5ECF6\", \"gridcolor\": \"white\", \"gridwidth\": 2, \"linecolor\": \"white\", \"showbackground\": true, \"ticks\": \"\", \"zerolinecolor\": \"white\"}, \"zaxis\": {\"backgroundcolor\": \"#E5ECF6\", \"gridcolor\": \"white\", \"gridwidth\": 2, \"linecolor\": \"white\", \"showbackground\": true, \"ticks\": \"\", \"zerolinecolor\": \"white\"}}, \"shapedefaults\": {\"line\": {\"color\": \"#2a3f5f\"}}, \"ternary\": {\"aaxis\": {\"gridcolor\": \"white\", \"linecolor\": \"white\", \"ticks\": \"\"}, \"baxis\": {\"gridcolor\": \"white\", \"linecolor\": \"white\", \"ticks\": \"\"}, \"bgcolor\": \"#E5ECF6\", \"caxis\": {\"gridcolor\": \"white\", \"linecolor\": \"white\", \"ticks\": \"\"}}, \"title\": {\"x\": 0.05}, \"xaxis\": {\"automargin\": true, \"gridcolor\": \"white\", \"linecolor\": \"white\", \"ticks\": \"\", \"title\": {\"standoff\": 15}, \"zerolinecolor\": \"white\", \"zerolinewidth\": 2}, \"yaxis\": {\"automargin\": true, \"gridcolor\": \"white\", \"linecolor\": \"white\", \"ticks\": \"\", \"title\": {\"standoff\": 15}, \"zerolinecolor\": \"white\", \"zerolinewidth\": 2}}}, \"title\": {\"text\": \"\\u63d0\\u6848\\u6578\\u91cf\\u5206\\u4f48\"}},\n",
       "                        {\"responsive\": true}\n",
       "                    ).then(function(){\n",
       "                            \n",
       "var gd = document.getElementById('d1f2fd70-fef7-48ce-b1ea-c0eb4f4dae8f');\n",
       "var x = new MutationObserver(function (mutations, observer) {{\n",
       "        var display = window.getComputedStyle(gd).display;\n",
       "        if (!display || display === 'none') {{\n",
       "            console.log([gd, 'removed!']);\n",
       "            Plotly.purge(gd);\n",
       "            observer.disconnect();\n",
       "        }}\n",
       "}});\n",
       "\n",
       "// Listen for the removal of the full notebook cells\n",
       "var notebookContainer = gd.closest('#notebook-container');\n",
       "if (notebookContainer) {{\n",
       "    x.observe(notebookContainer, {childList: true});\n",
       "}}\n",
       "\n",
       "// Listen for the clearing of the current output cell\n",
       "var outputEl = gd.closest('.output');\n",
       "if (outputEl) {{\n",
       "    x.observe(outputEl, {childList: true});\n",
       "}}\n",
       "\n",
       "                        })\n",
       "                };\n",
       "                });\n",
       "            </script>\n",
       "        </div>"
      ]
     },
     "metadata": {},
     "output_type": "display_data"
    }
   ],
   "source": [
    "#從圖上可觀察出七月、十月的是提案的旺季\n",
    "\n",
    "data = [go.Scatter(\n",
    "        x = df.groupby(df.pro_month).have.sum().index,\n",
    "        y = df.groupby(df.pro_month).have.sum()\n",
    ")]\n",
    "\n",
    "layout={\n",
    "\"title\":\"提案數量分佈\"\n",
    "}\n",
    "\n",
    "fig = dict(data=data, layout=layout)\n",
    "py.iplot(fig)"
   ]
  },
  {
   "cell_type": "code",
   "execution_count": 71,
   "metadata": {},
   "outputs": [
    {
     "data": {
      "text/plain": [
       "Text(0.5, 0, 'Door')"
      ]
     },
     "execution_count": 71,
     "metadata": {},
     "output_type": "execute_result"
    },
    {
     "data": {
      "image/png": "[encoded data removed]",
      "text/plain": [
       "<Figure size 1080x432 with 1 Axes>"
      ]
     },
     "metadata": {},
     "output_type": "display_data"
    }
   ],
   "source": [
    "plt.style.use('ggplot')\n",
    "plt.figure(figsize=(15,6))\n",
    "sns.distplot(df.successCriti, kde=True)\n",
    "plt.title('Many Fundraising critical point at 30, 50, 100',  fontsize=30)\n",
    "plt.xlabel('Door', fontsize=20)"
   ]
  },
  {
   "cell_type": "code",
   "execution_count": 72,
   "metadata": {
    "scrolled": true
   },
   "outputs": [
    {
     "data": {
      "text/plain": [
       "<Figure size 432x288 with 0 Axes>"
      ]
     },
     "execution_count": 72,
     "metadata": {},
     "output_type": "execute_result"
    },
    {
     "data": {
      "image/png": "[encoded data removed]",
      "text/plain": [
       "<Figure size 720x576 with 1 Axes>"
      ]
     },
     "metadata": {},
     "output_type": "display_data"
    },
    {
     "data": {
      "text/plain": [
       "<Figure size 432x288 with 0 Axes>"
      ]
     },
     "metadata": {},
     "output_type": "display_data"
    }
   ],
   "source": [
    "from wordcloud import WordCloud\n",
    "import jieba\n",
    "high_gate_proposal = df[df.successCriti > 90]\n",
    "# print(high_gate_proposal)\n",
    "title = ''\n",
    "for name in high_gate_proposal.title:\n",
    "    title += name\n",
    "removeword = []\n",
    "\n",
    "for word in removeword:\n",
    "    title = title.replace(word, '')\n",
    "font_path = './微軟正黑體.ttf'\n",
    "wordcloud = WordCloud(font_path = font_path).generate(title)\n",
    "plt.figure(figsize=(10,8), facecolor='k', frameon=False)\n",
    "plt.title('Class Name', fontsize=40)\n",
    "plt.imshow(wordcloud, interpolation='bilinear')\n",
    "plt.axis('off')\n",
    "plt.figure()"
   ]
  },
  {
   "cell_type": "code",
   "execution_count": 73,
   "metadata": {},
   "outputs": [
    {
     "data": {
      "text/html": [
       "<div>\n",
       "<style scoped>\n",
       "    .dataframe tbody tr th:only-of-type {\n",
       "        vertical-align: middle;\n",
       "    }\n",
       "\n",
       "    .dataframe tbody tr th {\n",
       "        vertical-align: top;\n",
       "    }\n",
       "\n",
       "    .dataframe thead th {\n",
       "        text-align: right;\n",
       "    }\n",
       "</style>\n",
       "<table border=\"1\" class=\"dataframe\">\n",
       "  <thead>\n",
       "    <tr style=\"text-align: right;\">\n",
       "      <th></th>\n",
       "      <th>Unnamed: 0</th>\n",
       "      <th>title</th>\n",
       "      <th>author</th>\n",
       "      <th>proposal</th>\n",
       "      <th>incubate</th>\n",
       "      <th>estimateStart</th>\n",
       "      <th>startCapital</th>\n",
       "      <th>types</th>\n",
       "      <th>ratings</th>\n",
       "      <th>avg_ratings</th>\n",
       "      <th>isReject</th>\n",
       "      <th>successCriti</th>\n",
       "      <th>prePrice</th>\n",
       "      <th>price</th>\n",
       "      <th>review</th>\n",
       "      <th>status</th>\n",
       "      <th>solidTickets</th>\n",
       "      <th>pro_month</th>\n",
       "      <th>have</th>\n",
       "      <th>await</th>\n",
       "    </tr>\n",
       "  </thead>\n",
       "  <tbody>\n",
       "    <tr>\n",
       "      <th>180</th>\n",
       "      <td>180</td>\n",
       "      <td>用 Python 理財：打造小資族選股策略</td>\n",
       "      <td>FinLab</td>\n",
       "      <td>2018-03-23</td>\n",
       "      <td>2018-02-22</td>\n",
       "      <td>2018-05-22</td>\n",
       "      <td>NaN</td>\n",
       "      <td>[]</td>\n",
       "      <td>425</td>\n",
       "      <td>4.98</td>\n",
       "      <td>False</td>\n",
       "      <td>30</td>\n",
       "      <td>1999</td>\n",
       "      <td>3200</td>\n",
       "      <td>False</td>\n",
       "      <td>PUBLISHED</td>\n",
       "      <td>5529</td>\n",
       "      <td>3</td>\n",
       "      <td>1</td>\n",
       "      <td>184.300000</td>\n",
       "    </tr>\n",
       "    <tr>\n",
       "      <th>320</th>\n",
       "      <td>320</td>\n",
       "      <td>讓圖不只是好看的－資訊設計思考力！</td>\n",
       "      <td>圖文不符</td>\n",
       "      <td>2016-06-08</td>\n",
       "      <td>2016-05-09</td>\n",
       "      <td>2016-08-07</td>\n",
       "      <td>NaN</td>\n",
       "      <td>[]</td>\n",
       "      <td>213</td>\n",
       "      <td>4.60</td>\n",
       "      <td>False</td>\n",
       "      <td>100</td>\n",
       "      <td>990</td>\n",
       "      <td>1800</td>\n",
       "      <td>False</td>\n",
       "      <td>PUBLISHED</td>\n",
       "      <td>13581</td>\n",
       "      <td>6</td>\n",
       "      <td>1</td>\n",
       "      <td>135.810000</td>\n",
       "    </tr>\n",
       "    <tr>\n",
       "      <th>314</th>\n",
       "      <td>314</td>\n",
       "      <td>動畫互動網頁程式入門 (HTML/CSS/JS)</td>\n",
       "      <td>吳哲宇</td>\n",
       "      <td>2016-07-03</td>\n",
       "      <td>2016-06-03</td>\n",
       "      <td>2016-09-01</td>\n",
       "      <td>NaN</td>\n",
       "      <td>[]</td>\n",
       "      <td>262</td>\n",
       "      <td>4.97</td>\n",
       "      <td>False</td>\n",
       "      <td>50</td>\n",
       "      <td>1000</td>\n",
       "      <td>2000</td>\n",
       "      <td>False</td>\n",
       "      <td>PUBLISHED</td>\n",
       "      <td>5933</td>\n",
       "      <td>7</td>\n",
       "      <td>1</td>\n",
       "      <td>118.660000</td>\n",
       "    </tr>\n",
       "    <tr>\n",
       "      <th>66</th>\n",
       "      <td>66</td>\n",
       "      <td>用 Python 理財：打造自己的 AI 股票理專</td>\n",
       "      <td>FinLab</td>\n",
       "      <td>2019-04-18</td>\n",
       "      <td>2019-03-20</td>\n",
       "      <td>2019-06-17</td>\n",
       "      <td>NaN</td>\n",
       "      <td>[]</td>\n",
       "      <td>56</td>\n",
       "      <td>4.95</td>\n",
       "      <td>False</td>\n",
       "      <td>30</td>\n",
       "      <td>2499</td>\n",
       "      <td>3999</td>\n",
       "      <td>False</td>\n",
       "      <td>PUBLISHED</td>\n",
       "      <td>2332</td>\n",
       "      <td>4</td>\n",
       "      <td>1</td>\n",
       "      <td>77.733333</td>\n",
       "    </tr>\n",
       "    <tr>\n",
       "      <th>243</th>\n",
       "      <td>243</td>\n",
       "      <td>從入門到業界實戰 - UI / UX 前端網頁設計</td>\n",
       "      <td>Louis</td>\n",
       "      <td>2017-05-27</td>\n",
       "      <td>2017-04-27</td>\n",
       "      <td>2017-07-11</td>\n",
       "      <td>NaN</td>\n",
       "      <td>[]</td>\n",
       "      <td>80</td>\n",
       "      <td>4.80</td>\n",
       "      <td>False</td>\n",
       "      <td>30</td>\n",
       "      <td>650</td>\n",
       "      <td>2500</td>\n",
       "      <td>False</td>\n",
       "      <td>PUBLISHED</td>\n",
       "      <td>2317</td>\n",
       "      <td>5</td>\n",
       "      <td>1</td>\n",
       "      <td>77.233333</td>\n",
       "    </tr>\n",
       "    <tr>\n",
       "      <th>75</th>\n",
       "      <td>75</td>\n",
       "      <td>百萬 YouTuber 阿滴－攻心剪輯術！</td>\n",
       "      <td>阿滴 x 圖文不符</td>\n",
       "      <td>2019-03-19</td>\n",
       "      <td>2019-02-18</td>\n",
       "      <td>2019-05-18</td>\n",
       "      <td>2019-02-18T04:00:00.000Z</td>\n",
       "      <td>['PHYSICAL', 'DIGITAL']</td>\n",
       "      <td>237</td>\n",
       "      <td>4.92</td>\n",
       "      <td>False</td>\n",
       "      <td>100</td>\n",
       "      <td>1200</td>\n",
       "      <td>1800</td>\n",
       "      <td>False</td>\n",
       "      <td>PUBLISHED</td>\n",
       "      <td>7619</td>\n",
       "      <td>3</td>\n",
       "      <td>1</td>\n",
       "      <td>76.190000</td>\n",
       "    </tr>\n",
       "    <tr>\n",
       "      <th>175</th>\n",
       "      <td>175</td>\n",
       "      <td>從上手到專業，寫出你想要的文案效果</td>\n",
       "      <td>林育聖</td>\n",
       "      <td>2018-04-04</td>\n",
       "      <td>2018-03-06</td>\n",
       "      <td>2018-05-04</td>\n",
       "      <td>NaN</td>\n",
       "      <td>[]</td>\n",
       "      <td>82</td>\n",
       "      <td>4.83</td>\n",
       "      <td>False</td>\n",
       "      <td>30</td>\n",
       "      <td>1280</td>\n",
       "      <td>1680</td>\n",
       "      <td>False</td>\n",
       "      <td>PUBLISHED</td>\n",
       "      <td>2247</td>\n",
       "      <td>4</td>\n",
       "      <td>1</td>\n",
       "      <td>74.900000</td>\n",
       "    </tr>\n",
       "    <tr>\n",
       "      <th>280</th>\n",
       "      <td>280</td>\n",
       "      <td>比ㄅㄆㄇ簡單的韓語發音</td>\n",
       "      <td>王稚鈞</td>\n",
       "      <td>2016-11-05</td>\n",
       "      <td>2016-10-06</td>\n",
       "      <td>2016-11-30</td>\n",
       "      <td>NaN</td>\n",
       "      <td>[]</td>\n",
       "      <td>84</td>\n",
       "      <td>5.00</td>\n",
       "      <td>False</td>\n",
       "      <td>50</td>\n",
       "      <td>990</td>\n",
       "      <td>1590</td>\n",
       "      <td>False</td>\n",
       "      <td>PUBLISHED</td>\n",
       "      <td>3530</td>\n",
       "      <td>11</td>\n",
       "      <td>1</td>\n",
       "      <td>70.600000</td>\n",
       "    </tr>\n",
       "    <tr>\n",
       "      <th>339</th>\n",
       "      <td>339</td>\n",
       "      <td>AE/MG || 動畫特效 Vol.1</td>\n",
       "      <td>Yan-K</td>\n",
       "      <td>2016-03-24</td>\n",
       "      <td>2016-02-23</td>\n",
       "      <td>2016-04-30</td>\n",
       "      <td>NaN</td>\n",
       "      <td>[]</td>\n",
       "      <td>149</td>\n",
       "      <td>4.86</td>\n",
       "      <td>False</td>\n",
       "      <td>50</td>\n",
       "      <td>1000</td>\n",
       "      <td>1500</td>\n",
       "      <td>False</td>\n",
       "      <td>PUBLISHED</td>\n",
       "      <td>3395</td>\n",
       "      <td>3</td>\n",
       "      <td>1</td>\n",
       "      <td>67.900000</td>\n",
       "    </tr>\n",
       "    <tr>\n",
       "      <th>49</th>\n",
       "      <td>49</td>\n",
       "      <td>聲入人心-周震宇的人聲必修課</td>\n",
       "      <td>周震宇</td>\n",
       "      <td>2019-06-19</td>\n",
       "      <td>2019-05-21</td>\n",
       "      <td>2019-08-18</td>\n",
       "      <td>2019-05-20T16:00:00.000Z</td>\n",
       "      <td>['DIGITAL']</td>\n",
       "      <td>19</td>\n",
       "      <td>5.00</td>\n",
       "      <td>False</td>\n",
       "      <td>30</td>\n",
       "      <td>1680</td>\n",
       "      <td>2680</td>\n",
       "      <td>False</td>\n",
       "      <td>PUBLISHED</td>\n",
       "      <td>1938</td>\n",
       "      <td>6</td>\n",
       "      <td>1</td>\n",
       "      <td>64.600000</td>\n",
       "    </tr>\n",
       "    <tr>\n",
       "      <th>239</th>\n",
       "      <td>239</td>\n",
       "      <td>動畫互動網頁特效入門（JS/CANVAS）</td>\n",
       "      <td>吳哲宇</td>\n",
       "      <td>2017-06-17</td>\n",
       "      <td>2017-05-18</td>\n",
       "      <td>2017-08-16</td>\n",
       "      <td>NaN</td>\n",
       "      <td>[]</td>\n",
       "      <td>88</td>\n",
       "      <td>5.00</td>\n",
       "      <td>False</td>\n",
       "      <td>50</td>\n",
       "      <td>1600</td>\n",
       "      <td>2000</td>\n",
       "      <td>False</td>\n",
       "      <td>PUBLISHED</td>\n",
       "      <td>2853</td>\n",
       "      <td>6</td>\n",
       "      <td>1</td>\n",
       "      <td>57.060000</td>\n",
       "    </tr>\n",
       "    <tr>\n",
       "      <th>323</th>\n",
       "      <td>323</td>\n",
       "      <td>精準設計：PowerPoint 實戰技巧</td>\n",
       "      <td>彭毅弘 Bill</td>\n",
       "      <td>2016-05-31</td>\n",
       "      <td>2016-05-01</td>\n",
       "      <td>2016-07-30</td>\n",
       "      <td>NaN</td>\n",
       "      <td>[]</td>\n",
       "      <td>99</td>\n",
       "      <td>4.98</td>\n",
       "      <td>False</td>\n",
       "      <td>30</td>\n",
       "      <td>500</td>\n",
       "      <td>900</td>\n",
       "      <td>False</td>\n",
       "      <td>PUBLISHED</td>\n",
       "      <td>1707</td>\n",
       "      <td>5</td>\n",
       "      <td>1</td>\n",
       "      <td>56.900000</td>\n",
       "    </tr>\n",
       "    <tr>\n",
       "      <th>206</th>\n",
       "      <td>206</td>\n",
       "      <td>社群力：30 堂課突破你的內容行銷盲點！</td>\n",
       "      <td>圖文不符</td>\n",
       "      <td>2017-11-15</td>\n",
       "      <td>2017-10-17</td>\n",
       "      <td>2018-01-14</td>\n",
       "      <td>NaN</td>\n",
       "      <td>[]</td>\n",
       "      <td>129</td>\n",
       "      <td>4.95</td>\n",
       "      <td>False</td>\n",
       "      <td>100</td>\n",
       "      <td>1880</td>\n",
       "      <td>2400</td>\n",
       "      <td>False</td>\n",
       "      <td>PUBLISHED</td>\n",
       "      <td>5508</td>\n",
       "      <td>11</td>\n",
       "      <td>1</td>\n",
       "      <td>55.080000</td>\n",
       "    </tr>\n",
       "    <tr>\n",
       "      <th>240</th>\n",
       "      <td>240</td>\n",
       "      <td>不必下蠱的人心攻略術 — 小說實戰技術</td>\n",
       "      <td>朱宥勳</td>\n",
       "      <td>2017-06-04</td>\n",
       "      <td>2017-05-05</td>\n",
       "      <td>2017-08-03</td>\n",
       "      <td>NaN</td>\n",
       "      <td>[]</td>\n",
       "      <td>101</td>\n",
       "      <td>4.98</td>\n",
       "      <td>False</td>\n",
       "      <td>30</td>\n",
       "      <td>800</td>\n",
       "      <td>1500</td>\n",
       "      <td>False</td>\n",
       "      <td>PUBLISHED</td>\n",
       "      <td>1642</td>\n",
       "      <td>6</td>\n",
       "      <td>1</td>\n",
       "      <td>54.733333</td>\n",
       "    </tr>\n",
       "    <tr>\n",
       "      <th>328</th>\n",
       "      <td>328</td>\n",
       "      <td>丟掉 Word，進入 InDesign 的排版世界</td>\n",
       "      <td>林協霆</td>\n",
       "      <td>2016-05-10</td>\n",
       "      <td>2016-04-10</td>\n",
       "      <td>2016-06-06</td>\n",
       "      <td>NaN</td>\n",
       "      <td>[]</td>\n",
       "      <td>60</td>\n",
       "      <td>4.85</td>\n",
       "      <td>False</td>\n",
       "      <td>30</td>\n",
       "      <td>750</td>\n",
       "      <td>1000</td>\n",
       "      <td>False</td>\n",
       "      <td>PUBLISHED</td>\n",
       "      <td>1626</td>\n",
       "      <td>5</td>\n",
       "      <td>1</td>\n",
       "      <td>54.200000</td>\n",
       "    </tr>\n",
       "    <tr>\n",
       "      <th>210</th>\n",
       "      <td>210</td>\n",
       "      <td>【Illustrator / Ai 入門】五小時保證上手</td>\n",
       "      <td>李宇哲｜蒟蒻</td>\n",
       "      <td>2017-10-24</td>\n",
       "      <td>2017-09-25</td>\n",
       "      <td>2017-12-23</td>\n",
       "      <td>NaN</td>\n",
       "      <td>[]</td>\n",
       "      <td>117</td>\n",
       "      <td>4.94</td>\n",
       "      <td>False</td>\n",
       "      <td>30</td>\n",
       "      <td>990</td>\n",
       "      <td>1590</td>\n",
       "      <td>False</td>\n",
       "      <td>PUBLISHED</td>\n",
       "      <td>1573</td>\n",
       "      <td>10</td>\n",
       "      <td>1</td>\n",
       "      <td>52.433333</td>\n",
       "    </tr>\n",
       "    <tr>\n",
       "      <th>136</th>\n",
       "      <td>136</td>\n",
       "      <td>實用Photoshop- 入門到大師，紮實範例</td>\n",
       "      <td>timmo</td>\n",
       "      <td>2018-08-23</td>\n",
       "      <td>2018-07-25</td>\n",
       "      <td>2018-10-22</td>\n",
       "      <td>NaN</td>\n",
       "      <td>[]</td>\n",
       "      <td>73</td>\n",
       "      <td>4.99</td>\n",
       "      <td>False</td>\n",
       "      <td>30</td>\n",
       "      <td>1280</td>\n",
       "      <td>2046</td>\n",
       "      <td>False</td>\n",
       "      <td>PUBLISHED</td>\n",
       "      <td>1559</td>\n",
       "      <td>8</td>\n",
       "      <td>1</td>\n",
       "      <td>51.966667</td>\n",
       "    </tr>\n",
       "    <tr>\n",
       "      <th>176</th>\n",
       "      <td>176</td>\n",
       "      <td>Adobe XD / PS  —  網頁設計 與 UI 教學</td>\n",
       "      <td>Ellie</td>\n",
       "      <td>2018-03-31</td>\n",
       "      <td>2018-03-02</td>\n",
       "      <td>2018-05-30</td>\n",
       "      <td>NaN</td>\n",
       "      <td>[]</td>\n",
       "      <td>70</td>\n",
       "      <td>4.81</td>\n",
       "      <td>False</td>\n",
       "      <td>30</td>\n",
       "      <td>990</td>\n",
       "      <td>1990</td>\n",
       "      <td>False</td>\n",
       "      <td>PUBLISHED</td>\n",
       "      <td>1534</td>\n",
       "      <td>3</td>\n",
       "      <td>1</td>\n",
       "      <td>51.133333</td>\n",
       "    </tr>\n",
       "    <tr>\n",
       "      <th>242</th>\n",
       "      <td>242</td>\n",
       "      <td>如何練習動漫速寫</td>\n",
       "      <td>空罐王</td>\n",
       "      <td>2017-05-29</td>\n",
       "      <td>2017-04-29</td>\n",
       "      <td>2017-07-28</td>\n",
       "      <td>NaN</td>\n",
       "      <td>[]</td>\n",
       "      <td>120</td>\n",
       "      <td>4.88</td>\n",
       "      <td>False</td>\n",
       "      <td>30</td>\n",
       "      <td>500</td>\n",
       "      <td>600</td>\n",
       "      <td>False</td>\n",
       "      <td>PUBLISHED</td>\n",
       "      <td>1521</td>\n",
       "      <td>5</td>\n",
       "      <td>1</td>\n",
       "      <td>50.700000</td>\n",
       "    </tr>\n",
       "    <tr>\n",
       "      <th>145</th>\n",
       "      <td>145</td>\n",
       "      <td>掌握英文8原則-自學英文的最短路徑</td>\n",
       "      <td>Eli</td>\n",
       "      <td>2018-07-25</td>\n",
       "      <td>2018-06-26</td>\n",
       "      <td>2018-09-23</td>\n",
       "      <td>NaN</td>\n",
       "      <td>[]</td>\n",
       "      <td>66</td>\n",
       "      <td>4.94</td>\n",
       "      <td>False</td>\n",
       "      <td>30</td>\n",
       "      <td>990</td>\n",
       "      <td>1500</td>\n",
       "      <td>False</td>\n",
       "      <td>PUBLISHED</td>\n",
       "      <td>1455</td>\n",
       "      <td>7</td>\n",
       "      <td>1</td>\n",
       "      <td>48.500000</td>\n",
       "    </tr>\n",
       "  </tbody>\n",
       "</table>\n",
       "</div>"
      ],
      "text/plain": [
       "     Unnamed: 0                           title     author    proposal  \\\n",
       "180         180           用 Python 理財：打造小資族選股策略     FinLab  2018-03-23   \n",
       "320         320               讓圖不只是好看的－資訊設計思考力！       圖文不符  2016-06-08   \n",
       "314         314        動畫互動網頁程式入門 (HTML/CSS/JS)        吳哲宇  2016-07-03   \n",
       "66           66       用 Python 理財：打造自己的 AI 股票理專     FinLab  2019-04-18   \n",
       "243         243       從入門到業界實戰 - UI / UX 前端網頁設計      Louis  2017-05-27   \n",
       "75           75           百萬 YouTuber 阿滴－攻心剪輯術！  阿滴 x 圖文不符  2019-03-19   \n",
       "175         175               從上手到專業，寫出你想要的文案效果        林育聖  2018-04-04   \n",
       "280         280                     比ㄅㄆㄇ簡單的韓語發音        王稚鈞  2016-11-05   \n",
       "339         339             AE/MG || 動畫特效 Vol.1      Yan-K  2016-03-24   \n",
       "49           49                  聲入人心-周震宇的人聲必修課        周震宇  2019-06-19   \n",
       "239         239           動畫互動網頁特效入門（JS/CANVAS）        吳哲宇  2017-06-17   \n",
       "323         323            精準設計：PowerPoint 實戰技巧   彭毅弘 Bill  2016-05-31   \n",
       "206         206            社群力：30 堂課突破你的內容行銷盲點！       圖文不符  2017-11-15   \n",
       "240         240             不必下蠱的人心攻略術 — 小說實戰技術        朱宥勳  2017-06-04   \n",
       "328         328       丟掉 Word，進入 InDesign 的排版世界        林協霆  2016-05-10   \n",
       "210         210    【Illustrator / Ai 入門】五小時保證上手     李宇哲｜蒟蒻  2017-10-24   \n",
       "136         136         實用Photoshop- 入門到大師，紮實範例      timmo  2018-08-23   \n",
       "176         176  Adobe XD / PS  —  網頁設計 與 UI 教學      Ellie  2018-03-31   \n",
       "242         242                        如何練習動漫速寫        空罐王  2017-05-29   \n",
       "145         145               掌握英文8原則-自學英文的最短路徑        Eli  2018-07-25   \n",
       "\n",
       "       incubate estimateStart              startCapital  \\\n",
       "180  2018-02-22    2018-05-22                       NaN   \n",
       "320  2016-05-09    2016-08-07                       NaN   \n",
       "314  2016-06-03    2016-09-01                       NaN   \n",
       "66   2019-03-20    2019-06-17                       NaN   \n",
       "243  2017-04-27    2017-07-11                       NaN   \n",
       "75   2019-02-18    2019-05-18  2019-02-18T04:00:00.000Z   \n",
       "175  2018-03-06    2018-05-04                       NaN   \n",
       "280  2016-10-06    2016-11-30                       NaN   \n",
       "339  2016-02-23    2016-04-30                       NaN   \n",
       "49   2019-05-21    2019-08-18  2019-05-20T16:00:00.000Z   \n",
       "239  2017-05-18    2017-08-16                       NaN   \n",
       "323  2016-05-01    2016-07-30                       NaN   \n",
       "206  2017-10-17    2018-01-14                       NaN   \n",
       "240  2017-05-05    2017-08-03                       NaN   \n",
       "328  2016-04-10    2016-06-06                       NaN   \n",
       "210  2017-09-25    2017-12-23                       NaN   \n",
       "136  2018-07-25    2018-10-22                       NaN   \n",
       "176  2018-03-02    2018-05-30                       NaN   \n",
       "242  2017-04-29    2017-07-28                       NaN   \n",
       "145  2018-06-26    2018-09-23                       NaN   \n",
       "\n",
       "                       types  ratings  avg_ratings  isReject  successCriti  \\\n",
       "180                       []      425         4.98     False            30   \n",
       "320                       []      213         4.60     False           100   \n",
       "314                       []      262         4.97     False            50   \n",
       "66                        []       56         4.95     False            30   \n",
       "243                       []       80         4.80     False            30   \n",
       "75   ['PHYSICAL', 'DIGITAL']      237         4.92     False           100   \n",
       "175                       []       82         4.83     False            30   \n",
       "280                       []       84         5.00     False            50   \n",
       "339                       []      149         4.86     False            50   \n",
       "49               ['DIGITAL']       19         5.00     False            30   \n",
       "239                       []       88         5.00     False            50   \n",
       "323                       []       99         4.98     False            30   \n",
       "206                       []      129         4.95     False           100   \n",
       "240                       []      101         4.98     False            30   \n",
       "328                       []       60         4.85     False            30   \n",
       "210                       []      117         4.94     False            30   \n",
       "136                       []       73         4.99     False            30   \n",
       "176                       []       70         4.81     False            30   \n",
       "242                       []      120         4.88     False            30   \n",
       "145                       []       66         4.94     False            30   \n",
       "\n",
       "     prePrice  price  review     status  solidTickets  pro_month  have  \\\n",
       "180      1999   3200   False  PUBLISHED          5529          3     1   \n",
       "320       990   1800   False  PUBLISHED         13581          6     1   \n",
       "314      1000   2000   False  PUBLISHED          5933          7     1   \n",
       "66       2499   3999   False  PUBLISHED          2332          4     1   \n",
       "243       650   2500   False  PUBLISHED          2317          5     1   \n",
       "75       1200   1800   False  PUBLISHED          7619          3     1   \n",
       "175      1280   1680   False  PUBLISHED          2247          4     1   \n",
       "280       990   1590   False  PUBLISHED          3530         11     1   \n",
       "339      1000   1500   False  PUBLISHED          3395          3     1   \n",
       "49       1680   2680   False  PUBLISHED          1938          6     1   \n",
       "239      1600   2000   False  PUBLISHED          2853          6     1   \n",
       "323       500    900   False  PUBLISHED          1707          5     1   \n",
       "206      1880   2400   False  PUBLISHED          5508         11     1   \n",
       "240       800   1500   False  PUBLISHED          1642          6     1   \n",
       "328       750   1000   False  PUBLISHED          1626          5     1   \n",
       "210       990   1590   False  PUBLISHED          1573         10     1   \n",
       "136      1280   2046   False  PUBLISHED          1559          8     1   \n",
       "176       990   1990   False  PUBLISHED          1534          3     1   \n",
       "242       500    600   False  PUBLISHED          1521          5     1   \n",
       "145       990   1500   False  PUBLISHED          1455          7     1   \n",
       "\n",
       "          await  \n",
       "180  184.300000  \n",
       "320  135.810000  \n",
       "314  118.660000  \n",
       "66    77.733333  \n",
       "243   77.233333  \n",
       "75    76.190000  \n",
       "175   74.900000  \n",
       "280   70.600000  \n",
       "339   67.900000  \n",
       "49    64.600000  \n",
       "239   57.060000  \n",
       "323   56.900000  \n",
       "206   55.080000  \n",
       "240   54.733333  \n",
       "328   54.200000  \n",
       "210   52.433333  \n",
       "136   51.966667  \n",
       "176   51.133333  \n",
       "242   50.700000  \n",
       "145   48.500000  "
      ]
     },
     "execution_count": 73,
     "metadata": {},
     "output_type": "execute_result"
    }
   ],
   "source": [
    "df['await'] = df.solidTickets/df.successCriti\n",
    "df.sort_values('await', ascending=False).head(20)"
   ]
  },
  {
   "cell_type": "code",
   "execution_count": 74,
   "metadata": {},
   "outputs": [
    {
     "data": {
      "text/html": [
       "<div>\n",
       "<style scoped>\n",
       "    .dataframe tbody tr th:only-of-type {\n",
       "        vertical-align: middle;\n",
       "    }\n",
       "\n",
       "    .dataframe tbody tr th {\n",
       "        vertical-align: top;\n",
       "    }\n",
       "\n",
       "    .dataframe thead th {\n",
       "        text-align: right;\n",
       "    }\n",
       "</style>\n",
       "<table border=\"1\" class=\"dataframe\">\n",
       "  <thead>\n",
       "    <tr style=\"text-align: right;\">\n",
       "      <th></th>\n",
       "      <th>Unnamed: 0</th>\n",
       "      <th>title</th>\n",
       "      <th>author</th>\n",
       "      <th>proposal</th>\n",
       "      <th>incubate</th>\n",
       "      <th>estimateStart</th>\n",
       "      <th>startCapital</th>\n",
       "      <th>types</th>\n",
       "      <th>ratings</th>\n",
       "      <th>avg_ratings</th>\n",
       "      <th>isReject</th>\n",
       "      <th>successCriti</th>\n",
       "      <th>prePrice</th>\n",
       "      <th>price</th>\n",
       "      <th>review</th>\n",
       "      <th>status</th>\n",
       "      <th>solidTickets</th>\n",
       "      <th>pro_month</th>\n",
       "      <th>have</th>\n",
       "      <th>await</th>\n",
       "    </tr>\n",
       "  </thead>\n",
       "  <tbody>\n",
       "    <tr>\n",
       "      <th>31</th>\n",
       "      <td>31</td>\n",
       "      <td>金融市場 x 程式交易：通往財富自由之路</td>\n",
       "      <td>Allen 劉曣全</td>\n",
       "      <td>2019-08-14</td>\n",
       "      <td>2019-07-16</td>\n",
       "      <td>2019-10-13</td>\n",
       "      <td>NaN</td>\n",
       "      <td>[]</td>\n",
       "      <td>0</td>\n",
       "      <td>0.0</td>\n",
       "      <td>False</td>\n",
       "      <td>30</td>\n",
       "      <td>2950</td>\n",
       "      <td>4200</td>\n",
       "      <td>False</td>\n",
       "      <td>SUCCESS</td>\n",
       "      <td>518</td>\n",
       "      <td>8</td>\n",
       "      <td>1</td>\n",
       "      <td>0.057915</td>\n",
       "    </tr>\n",
       "    <tr>\n",
       "      <th>18</th>\n",
       "      <td>18</td>\n",
       "      <td>不用動腦的攝影課-七堂課拍出有質感的照片</td>\n",
       "      <td>peterhuang</td>\n",
       "      <td>2019-09-20</td>\n",
       "      <td>2019-08-22</td>\n",
       "      <td>2019-11-19</td>\n",
       "      <td>2019-08-22T04:00:00.000Z</td>\n",
       "      <td>['DIGITAL']</td>\n",
       "      <td>0</td>\n",
       "      <td>0.0</td>\n",
       "      <td>False</td>\n",
       "      <td>50</td>\n",
       "      <td>490</td>\n",
       "      <td>790</td>\n",
       "      <td>False</td>\n",
       "      <td>SUCCESS</td>\n",
       "      <td>473</td>\n",
       "      <td>9</td>\n",
       "      <td>1</td>\n",
       "      <td>0.105708</td>\n",
       "    </tr>\n",
       "    <tr>\n",
       "      <th>19</th>\n",
       "      <td>19</td>\n",
       "      <td>英雄之旅：自己的故事，別當配角</td>\n",
       "      <td>子雍 Tzu-Yung</td>\n",
       "      <td>2019-09-18</td>\n",
       "      <td>2019-08-20</td>\n",
       "      <td>2019-11-17</td>\n",
       "      <td>NaN</td>\n",
       "      <td>[]</td>\n",
       "      <td>0</td>\n",
       "      <td>0.0</td>\n",
       "      <td>False</td>\n",
       "      <td>100</td>\n",
       "      <td>1490</td>\n",
       "      <td>2049</td>\n",
       "      <td>False</td>\n",
       "      <td>SUCCESS</td>\n",
       "      <td>444</td>\n",
       "      <td>9</td>\n",
       "      <td>1</td>\n",
       "      <td>0.225225</td>\n",
       "    </tr>\n",
       "    <tr>\n",
       "      <th>16</th>\n",
       "      <td>16</td>\n",
       "      <td>illustrator 入門：從形狀到美麗的向量插畫</td>\n",
       "      <td>Iris Lee</td>\n",
       "      <td>2019-09-26</td>\n",
       "      <td>2019-08-28</td>\n",
       "      <td>2019-11-25</td>\n",
       "      <td>NaN</td>\n",
       "      <td>[]</td>\n",
       "      <td>0</td>\n",
       "      <td>0.0</td>\n",
       "      <td>False</td>\n",
       "      <td>30</td>\n",
       "      <td>980</td>\n",
       "      <td>1960</td>\n",
       "      <td>False</td>\n",
       "      <td>SUCCESS</td>\n",
       "      <td>319</td>\n",
       "      <td>9</td>\n",
       "      <td>1</td>\n",
       "      <td>0.094044</td>\n",
       "    </tr>\n",
       "    <tr>\n",
       "      <th>23</th>\n",
       "      <td>23</td>\n",
       "      <td>區塊鏈應用敲門磚：行動支付到商業案例</td>\n",
       "      <td>區塊勢｜許明恩</td>\n",
       "      <td>2019-09-05</td>\n",
       "      <td>2019-08-07</td>\n",
       "      <td>2019-11-04</td>\n",
       "      <td>2019-08-07T04:00:00.000Z</td>\n",
       "      <td>['DIGITAL']</td>\n",
       "      <td>0</td>\n",
       "      <td>0.0</td>\n",
       "      <td>False</td>\n",
       "      <td>50</td>\n",
       "      <td>1800</td>\n",
       "      <td>2399</td>\n",
       "      <td>False</td>\n",
       "      <td>SUCCESS</td>\n",
       "      <td>285</td>\n",
       "      <td>9</td>\n",
       "      <td>1</td>\n",
       "      <td>0.175439</td>\n",
       "    </tr>\n",
       "  </tbody>\n",
       "</table>\n",
       "</div>"
      ],
      "text/plain": [
       "    Unnamed: 0                       title       author    proposal  \\\n",
       "31          31        金融市場 x 程式交易：通往財富自由之路    Allen 劉曣全  2019-08-14   \n",
       "18          18        不用動腦的攝影課-七堂課拍出有質感的照片   peterhuang  2019-09-20   \n",
       "19          19             英雄之旅：自己的故事，別當配角  子雍 Tzu-Yung  2019-09-18   \n",
       "16          16  illustrator 入門：從形狀到美麗的向量插畫     Iris Lee  2019-09-26   \n",
       "23          23          區塊鏈應用敲門磚：行動支付到商業案例      區塊勢｜許明恩  2019-09-05   \n",
       "\n",
       "      incubate estimateStart              startCapital        types  ratings  \\\n",
       "31  2019-07-16    2019-10-13                       NaN           []        0   \n",
       "18  2019-08-22    2019-11-19  2019-08-22T04:00:00.000Z  ['DIGITAL']        0   \n",
       "19  2019-08-20    2019-11-17                       NaN           []        0   \n",
       "16  2019-08-28    2019-11-25                       NaN           []        0   \n",
       "23  2019-08-07    2019-11-04  2019-08-07T04:00:00.000Z  ['DIGITAL']        0   \n",
       "\n",
       "    avg_ratings  isReject  successCriti  prePrice  price  review   status  \\\n",
       "31          0.0     False            30      2950   4200   False  SUCCESS   \n",
       "18          0.0     False            50       490    790   False  SUCCESS   \n",
       "19          0.0     False           100      1490   2049   False  SUCCESS   \n",
       "16          0.0     False            30       980   1960   False  SUCCESS   \n",
       "23          0.0     False            50      1800   2399   False  SUCCESS   \n",
       "\n",
       "    solidTickets  pro_month  have     await  \n",
       "31           518          8     1  0.057915  \n",
       "18           473          9     1  0.105708  \n",
       "19           444          9     1  0.225225  \n",
       "16           319          9     1  0.094044  \n",
       "23           285          9     1  0.175439  "
      ]
     },
     "execution_count": 74,
     "metadata": {},
     "output_type": "execute_result"
    }
   ],
   "source": [
    "check_start = df[df.status == 'SUCCESS']\n",
    "check_start['await'] = check_start.successCriti/check_start.solidTickets\n",
    "check_start.sort_values('solidTickets', ascending = False).head(5)"
   ]
  },
  {
   "cell_type": "code",
   "execution_count": 75,
   "metadata": {},
   "outputs": [
    {
     "data": {
      "text/html": [
       "<div>\n",
       "<style scoped>\n",
       "    .dataframe tbody tr th:only-of-type {\n",
       "        vertical-align: middle;\n",
       "    }\n",
       "\n",
       "    .dataframe tbody tr th {\n",
       "        vertical-align: top;\n",
       "    }\n",
       "\n",
       "    .dataframe thead th {\n",
       "        text-align: right;\n",
       "    }\n",
       "</style>\n",
       "<table border=\"1\" class=\"dataframe\">\n",
       "  <thead>\n",
       "    <tr style=\"text-align: right;\">\n",
       "      <th></th>\n",
       "      <th>have</th>\n",
       "    </tr>\n",
       "    <tr>\n",
       "      <th>author</th>\n",
       "      <th></th>\n",
       "    </tr>\n",
       "  </thead>\n",
       "  <tbody>\n",
       "    <tr>\n",
       "      <th>藍 國峰</th>\n",
       "      <td>5</td>\n",
       "    </tr>\n",
       "    <tr>\n",
       "      <th>Weihang Lidance Chou</th>\n",
       "      <td>4</td>\n",
       "    </tr>\n",
       "    <tr>\n",
       "      <th>李柏鋒</th>\n",
       "      <td>4</td>\n",
       "    </tr>\n",
       "    <tr>\n",
       "      <th>圖文不符</th>\n",
       "      <td>4</td>\n",
       "    </tr>\n",
       "    <tr>\n",
       "      <th>1MustLearn</th>\n",
       "      <td>4</td>\n",
       "    </tr>\n",
       "    <tr>\n",
       "      <th>Chang Hong Lin</th>\n",
       "      <td>4</td>\n",
       "    </tr>\n",
       "    <tr>\n",
       "      <th>Rainie Chiang</th>\n",
       "      <td>3</td>\n",
       "    </tr>\n",
       "    <tr>\n",
       "      <th>Tina Wu</th>\n",
       "      <td>3</td>\n",
       "    </tr>\n",
       "    <tr>\n",
       "      <th>Hank Tom</th>\n",
       "      <td>3</td>\n",
       "    </tr>\n",
       "    <tr>\n",
       "      <th>Lien  Ted</th>\n",
       "      <td>3</td>\n",
       "    </tr>\n",
       "    <tr>\n",
       "      <th>彭毅弘 Bill</th>\n",
       "      <td>3</td>\n",
       "    </tr>\n",
       "    <tr>\n",
       "      <th>聯經出版</th>\n",
       "      <td>3</td>\n",
       "    </tr>\n",
       "    <tr>\n",
       "      <th>程威誌</th>\n",
       "      <td>2</td>\n",
       "    </tr>\n",
       "    <tr>\n",
       "      <th>老別</th>\n",
       "      <td>2</td>\n",
       "    </tr>\n",
       "    <tr>\n",
       "      <th>Nuomi</th>\n",
       "      <td>2</td>\n",
       "    </tr>\n",
       "  </tbody>\n",
       "</table>\n",
       "</div>"
      ],
      "text/plain": [
       "                      have\n",
       "author                    \n",
       "藍 國峰                     5\n",
       "Weihang Lidance Chou     4\n",
       "李柏鋒                      4\n",
       "圖文不符                     4\n",
       "1MustLearn               4\n",
       "Chang Hong Lin           4\n",
       "Rainie Chiang            3\n",
       "Tina Wu                  3\n",
       "Hank Tom                 3\n",
       "Lien  Ted                3\n",
       "彭毅弘 Bill                 3\n",
       "聯經出版                     3\n",
       "程威誌                      2\n",
       "老別                       2\n",
       "Nuomi                    2"
      ]
     },
     "execution_count": 75,
     "metadata": {},
     "output_type": "execute_result"
    }
   ],
   "source": [
    "pd.DataFrame(df.groupby(df.author).have.sum()).sort_values('have', ascending=False).head(15)"
   ]
  },
  {
   "cell_type": "code",
   "execution_count": 76,
   "metadata": {},
   "outputs": [
    {
     "data": {
      "text/plain": [
       "Text(0.5, 0, 'Averge evaluation')"
      ]
     },
     "execution_count": 76,
     "metadata": {},
     "output_type": "execute_result"
    },
    {
     "data": {
      "image/png": "[encoded data removed]",
      "text/plain": [
       "<Figure size 1080x432 with 1 Axes>"
      ]
     },
     "metadata": {},
     "output_type": "display_data"
    }
   ],
   "source": [
    "plt.style.use('ggplot')\n",
    "plt.figure(figsize=(15,6))\n",
    "sns.distplot(df.avg_ratings, kde=True)\n",
    "plt.title('Many class evaluation is good but...', fontsize=30)\n",
    "plt.xlabel('Averge evaluation', fontsize=20)"
   ]
  },
  {
   "cell_type": "code",
   "execution_count": 77,
   "metadata": {},
   "outputs": [
    {
     "name": "stdout",
     "output_type": "stream",
     "text": [
      "count    384.000000\n",
      "mean      31.208333\n",
      "std       45.461008\n",
      "min        0.000000\n",
      "25%        6.000000\n",
      "50%       15.000000\n",
      "75%       36.250000\n",
      "max      425.000000\n",
      "Name: ratings, dtype: float64\n"
     ]
    },
    {
     "data": {
      "text/plain": [
       "Text(0.5, 0, 'Averge Message')"
      ]
     },
     "execution_count": 77,
     "metadata": {},
     "output_type": "execute_result"
    },
    {
     "data": {
      "image/png": "[encoded data removed]",
      "text/plain": [
       "<Figure size 1080x432 with 1 Axes>"
      ]
     },
     "metadata": {},
     "output_type": "display_data"
    }
   ],
   "source": [
    "plt.style.use('ggplot')\n",
    "print(df.ratings.describe())\n",
    "plt.figure(figsize=(15,6))\n",
    "sns.distplot(df.ratings, kde=True)\n",
    "plt.title('How Abou Message', fontsize=30)\n",
    "plt.xlabel('Averge Message', fontsize=20)"
   ]
  },
  {
   "cell_type": "code",
   "execution_count": 78,
   "metadata": {},
   "outputs": [
    {
     "data": {
      "text/html": [
       "<div>\n",
       "<style scoped>\n",
       "    .dataframe tbody tr th:only-of-type {\n",
       "        vertical-align: middle;\n",
       "    }\n",
       "\n",
       "    .dataframe tbody tr th {\n",
       "        vertical-align: top;\n",
       "    }\n",
       "\n",
       "    .dataframe thead th {\n",
       "        text-align: right;\n",
       "    }\n",
       "</style>\n",
       "<table border=\"1\" class=\"dataframe\">\n",
       "  <thead>\n",
       "    <tr style=\"text-align: right;\">\n",
       "      <th></th>\n",
       "      <th>Unnamed: 0</th>\n",
       "      <th>title</th>\n",
       "      <th>author</th>\n",
       "      <th>proposal</th>\n",
       "      <th>incubate</th>\n",
       "      <th>estimateStart</th>\n",
       "      <th>startCapital</th>\n",
       "      <th>types</th>\n",
       "      <th>ratings</th>\n",
       "      <th>avg_ratings</th>\n",
       "      <th>isReject</th>\n",
       "      <th>successCriti</th>\n",
       "      <th>prePrice</th>\n",
       "      <th>price</th>\n",
       "      <th>review</th>\n",
       "      <th>status</th>\n",
       "      <th>solidTickets</th>\n",
       "      <th>pro_month</th>\n",
       "      <th>have</th>\n",
       "      <th>await</th>\n",
       "    </tr>\n",
       "  </thead>\n",
       "  <tbody>\n",
       "    <tr>\n",
       "      <th>209</th>\n",
       "      <td>209</td>\n",
       "      <td>打動人心的創作秘密，畫出個性的角色設計</td>\n",
       "      <td>水晶孔</td>\n",
       "      <td>2017-10-25</td>\n",
       "      <td>2017-09-26</td>\n",
       "      <td>2017-11-30</td>\n",
       "      <td>NaN</td>\n",
       "      <td>[]</td>\n",
       "      <td>168</td>\n",
       "      <td>4.99</td>\n",
       "      <td>False</td>\n",
       "      <td>100</td>\n",
       "      <td>880</td>\n",
       "      <td>1280</td>\n",
       "      <td>False</td>\n",
       "      <td>PUBLISHED</td>\n",
       "      <td>3262</td>\n",
       "      <td>10</td>\n",
       "      <td>1</td>\n",
       "      <td>32.620000</td>\n",
       "    </tr>\n",
       "    <tr>\n",
       "      <th>240</th>\n",
       "      <td>240</td>\n",
       "      <td>不必下蠱的人心攻略術 — 小說實戰技術</td>\n",
       "      <td>朱宥勳</td>\n",
       "      <td>2017-06-04</td>\n",
       "      <td>2017-05-05</td>\n",
       "      <td>2017-08-03</td>\n",
       "      <td>NaN</td>\n",
       "      <td>[]</td>\n",
       "      <td>101</td>\n",
       "      <td>4.98</td>\n",
       "      <td>False</td>\n",
       "      <td>30</td>\n",
       "      <td>800</td>\n",
       "      <td>1500</td>\n",
       "      <td>False</td>\n",
       "      <td>PUBLISHED</td>\n",
       "      <td>1642</td>\n",
       "      <td>6</td>\n",
       "      <td>1</td>\n",
       "      <td>54.733333</td>\n",
       "    </tr>\n",
       "    <tr>\n",
       "      <th>180</th>\n",
       "      <td>180</td>\n",
       "      <td>用 Python 理財：打造小資族選股策略</td>\n",
       "      <td>FinLab</td>\n",
       "      <td>2018-03-23</td>\n",
       "      <td>2018-02-22</td>\n",
       "      <td>2018-05-22</td>\n",
       "      <td>NaN</td>\n",
       "      <td>[]</td>\n",
       "      <td>425</td>\n",
       "      <td>4.98</td>\n",
       "      <td>False</td>\n",
       "      <td>30</td>\n",
       "      <td>1999</td>\n",
       "      <td>3200</td>\n",
       "      <td>False</td>\n",
       "      <td>PUBLISHED</td>\n",
       "      <td>5529</td>\n",
       "      <td>3</td>\n",
       "      <td>1</td>\n",
       "      <td>184.300000</td>\n",
       "    </tr>\n",
       "    <tr>\n",
       "      <th>314</th>\n",
       "      <td>314</td>\n",
       "      <td>動畫互動網頁程式入門 (HTML/CSS/JS)</td>\n",
       "      <td>吳哲宇</td>\n",
       "      <td>2016-07-03</td>\n",
       "      <td>2016-06-03</td>\n",
       "      <td>2016-09-01</td>\n",
       "      <td>NaN</td>\n",
       "      <td>[]</td>\n",
       "      <td>262</td>\n",
       "      <td>4.97</td>\n",
       "      <td>False</td>\n",
       "      <td>50</td>\n",
       "      <td>1000</td>\n",
       "      <td>2000</td>\n",
       "      <td>False</td>\n",
       "      <td>PUBLISHED</td>\n",
       "      <td>5933</td>\n",
       "      <td>7</td>\n",
       "      <td>1</td>\n",
       "      <td>118.660000</td>\n",
       "    </tr>\n",
       "    <tr>\n",
       "      <th>216</th>\n",
       "      <td>216</td>\n",
       "      <td>當個水彩甜點師 — 雪莉的午茶繪畫課</td>\n",
       "      <td>Sherry雪莉</td>\n",
       "      <td>2017-09-27</td>\n",
       "      <td>2017-08-29</td>\n",
       "      <td>2017-11-26</td>\n",
       "      <td>NaN</td>\n",
       "      <td>[]</td>\n",
       "      <td>139</td>\n",
       "      <td>4.96</td>\n",
       "      <td>False</td>\n",
       "      <td>30</td>\n",
       "      <td>880</td>\n",
       "      <td>1200</td>\n",
       "      <td>False</td>\n",
       "      <td>PUBLISHED</td>\n",
       "      <td>1135</td>\n",
       "      <td>9</td>\n",
       "      <td>1</td>\n",
       "      <td>37.833333</td>\n",
       "    </tr>\n",
       "    <tr>\n",
       "      <th>329</th>\n",
       "      <td>329</td>\n",
       "      <td>Cartoon 插畫 - 人物篇 (●—●)</td>\n",
       "      <td>JUN CHIU</td>\n",
       "      <td>2016-05-09</td>\n",
       "      <td>2016-04-09</td>\n",
       "      <td>2016-07-08</td>\n",
       "      <td>NaN</td>\n",
       "      <td>[]</td>\n",
       "      <td>136</td>\n",
       "      <td>4.96</td>\n",
       "      <td>False</td>\n",
       "      <td>30</td>\n",
       "      <td>300</td>\n",
       "      <td>500</td>\n",
       "      <td>False</td>\n",
       "      <td>PUBLISHED</td>\n",
       "      <td>1392</td>\n",
       "      <td>5</td>\n",
       "      <td>1</td>\n",
       "      <td>46.400000</td>\n",
       "    </tr>\n",
       "    <tr>\n",
       "      <th>178</th>\n",
       "      <td>178</td>\n",
       "      <td>240 分鐘 - 忘掉拍照，學會攝影</td>\n",
       "      <td>子雍 Tzu-Yung</td>\n",
       "      <td>2018-03-28</td>\n",
       "      <td>2018-02-27</td>\n",
       "      <td>2018-05-27</td>\n",
       "      <td>NaN</td>\n",
       "      <td>[]</td>\n",
       "      <td>170</td>\n",
       "      <td>4.96</td>\n",
       "      <td>False</td>\n",
       "      <td>120</td>\n",
       "      <td>1490</td>\n",
       "      <td>2049</td>\n",
       "      <td>False</td>\n",
       "      <td>PUBLISHED</td>\n",
       "      <td>2512</td>\n",
       "      <td>3</td>\n",
       "      <td>1</td>\n",
       "      <td>20.933333</td>\n",
       "    </tr>\n",
       "    <tr>\n",
       "      <th>207</th>\n",
       "      <td>207</td>\n",
       "      <td>小資族理財的第一堂入門課</td>\n",
       "      <td>李柏鋒</td>\n",
       "      <td>2017-10-31</td>\n",
       "      <td>2017-10-02</td>\n",
       "      <td>2017-12-30</td>\n",
       "      <td>NaN</td>\n",
       "      <td>[]</td>\n",
       "      <td>218</td>\n",
       "      <td>4.96</td>\n",
       "      <td>False</td>\n",
       "      <td>60</td>\n",
       "      <td>888</td>\n",
       "      <td>1688</td>\n",
       "      <td>False</td>\n",
       "      <td>PUBLISHED</td>\n",
       "      <td>1647</td>\n",
       "      <td>10</td>\n",
       "      <td>1</td>\n",
       "      <td>27.450000</td>\n",
       "    </tr>\n",
       "    <tr>\n",
       "      <th>108</th>\n",
       "      <td>108</td>\n",
       "      <td>興趣變副業！打造自己的手作品牌</td>\n",
       "      <td>張譯蓁</td>\n",
       "      <td>2018-11-28</td>\n",
       "      <td>2018-10-30</td>\n",
       "      <td>2019-01-27</td>\n",
       "      <td>NaN</td>\n",
       "      <td>[]</td>\n",
       "      <td>120</td>\n",
       "      <td>4.95</td>\n",
       "      <td>False</td>\n",
       "      <td>30</td>\n",
       "      <td>1500</td>\n",
       "      <td>2500</td>\n",
       "      <td>False</td>\n",
       "      <td>PUBLISHED</td>\n",
       "      <td>806</td>\n",
       "      <td>11</td>\n",
       "      <td>1</td>\n",
       "      <td>26.866667</td>\n",
       "    </tr>\n",
       "    <tr>\n",
       "      <th>206</th>\n",
       "      <td>206</td>\n",
       "      <td>社群力：30 堂課突破你的內容行銷盲點！</td>\n",
       "      <td>圖文不符</td>\n",
       "      <td>2017-11-15</td>\n",
       "      <td>2017-10-17</td>\n",
       "      <td>2018-01-14</td>\n",
       "      <td>NaN</td>\n",
       "      <td>[]</td>\n",
       "      <td>129</td>\n",
       "      <td>4.95</td>\n",
       "      <td>False</td>\n",
       "      <td>100</td>\n",
       "      <td>1880</td>\n",
       "      <td>2400</td>\n",
       "      <td>False</td>\n",
       "      <td>PUBLISHED</td>\n",
       "      <td>5508</td>\n",
       "      <td>11</td>\n",
       "      <td>1</td>\n",
       "      <td>55.080000</td>\n",
       "    </tr>\n",
       "    <tr>\n",
       "      <th>212</th>\n",
       "      <td>212</td>\n",
       "      <td>資料庫設計 - 有效的使用系統資料</td>\n",
       "      <td>Ryan</td>\n",
       "      <td>2017-10-20</td>\n",
       "      <td>2017-09-21</td>\n",
       "      <td>2017-12-19</td>\n",
       "      <td>NaN</td>\n",
       "      <td>[]</td>\n",
       "      <td>104</td>\n",
       "      <td>4.94</td>\n",
       "      <td>False</td>\n",
       "      <td>50</td>\n",
       "      <td>980</td>\n",
       "      <td>1890</td>\n",
       "      <td>False</td>\n",
       "      <td>PUBLISHED</td>\n",
       "      <td>449</td>\n",
       "      <td>10</td>\n",
       "      <td>1</td>\n",
       "      <td>8.980000</td>\n",
       "    </tr>\n",
       "    <tr>\n",
       "      <th>189</th>\n",
       "      <td>189</td>\n",
       "      <td>台科 EMBA 年年爆滿的一門 Word 課（A系列）</td>\n",
       "      <td>Tina Wu</td>\n",
       "      <td>2018-01-18</td>\n",
       "      <td>2017-12-20</td>\n",
       "      <td>2018-03-19</td>\n",
       "      <td>NaN</td>\n",
       "      <td>[]</td>\n",
       "      <td>112</td>\n",
       "      <td>4.94</td>\n",
       "      <td>False</td>\n",
       "      <td>30</td>\n",
       "      <td>550</td>\n",
       "      <td>950</td>\n",
       "      <td>False</td>\n",
       "      <td>PUBLISHED</td>\n",
       "      <td>1100</td>\n",
       "      <td>1</td>\n",
       "      <td>1</td>\n",
       "      <td>36.666667</td>\n",
       "    </tr>\n",
       "    <tr>\n",
       "      <th>210</th>\n",
       "      <td>210</td>\n",
       "      <td>【Illustrator / Ai 入門】五小時保證上手</td>\n",
       "      <td>李宇哲｜蒟蒻</td>\n",
       "      <td>2017-10-24</td>\n",
       "      <td>2017-09-25</td>\n",
       "      <td>2017-12-23</td>\n",
       "      <td>NaN</td>\n",
       "      <td>[]</td>\n",
       "      <td>117</td>\n",
       "      <td>4.94</td>\n",
       "      <td>False</td>\n",
       "      <td>30</td>\n",
       "      <td>990</td>\n",
       "      <td>1590</td>\n",
       "      <td>False</td>\n",
       "      <td>PUBLISHED</td>\n",
       "      <td>1573</td>\n",
       "      <td>10</td>\n",
       "      <td>1</td>\n",
       "      <td>52.433333</td>\n",
       "    </tr>\n",
       "    <tr>\n",
       "      <th>61</th>\n",
       "      <td>61</td>\n",
       "      <td>15 單元看懂經濟運行，掌握全球投資趨勢</td>\n",
       "      <td>Rachel Chen</td>\n",
       "      <td>2019-05-15</td>\n",
       "      <td>2019-04-16</td>\n",
       "      <td>2019-07-14</td>\n",
       "      <td>2019-04-16T04:00:00.000Z</td>\n",
       "      <td>['DIGITAL']</td>\n",
       "      <td>235</td>\n",
       "      <td>4.94</td>\n",
       "      <td>False</td>\n",
       "      <td>100</td>\n",
       "      <td>2490</td>\n",
       "      <td>3600</td>\n",
       "      <td>False</td>\n",
       "      <td>PUBLISHED</td>\n",
       "      <td>3706</td>\n",
       "      <td>5</td>\n",
       "      <td>1</td>\n",
       "      <td>37.060000</td>\n",
       "    </tr>\n",
       "    <tr>\n",
       "      <th>133</th>\n",
       "      <td>133</td>\n",
       "      <td>啾啾鞋的資料彙整術 - 別淹沒在資訊海！</td>\n",
       "      <td>chuchushoe</td>\n",
       "      <td>2018-08-31</td>\n",
       "      <td>2018-08-02</td>\n",
       "      <td>2018-10-30</td>\n",
       "      <td>NaN</td>\n",
       "      <td>[]</td>\n",
       "      <td>105</td>\n",
       "      <td>4.93</td>\n",
       "      <td>False</td>\n",
       "      <td>100</td>\n",
       "      <td>1000</td>\n",
       "      <td>1500</td>\n",
       "      <td>False</td>\n",
       "      <td>PUBLISHED</td>\n",
       "      <td>1495</td>\n",
       "      <td>8</td>\n",
       "      <td>1</td>\n",
       "      <td>14.950000</td>\n",
       "    </tr>\n",
       "    <tr>\n",
       "      <th>47</th>\n",
       "      <td>47</td>\n",
       "      <td>職場必備的批判思考力：基礎篇</td>\n",
       "      <td>Weihang Lidance Chou</td>\n",
       "      <td>2019-06-21</td>\n",
       "      <td>2019-05-23</td>\n",
       "      <td>2019-07-21</td>\n",
       "      <td>NaN</td>\n",
       "      <td>[]</td>\n",
       "      <td>127</td>\n",
       "      <td>4.92</td>\n",
       "      <td>False</td>\n",
       "      <td>100</td>\n",
       "      <td>399</td>\n",
       "      <td>499</td>\n",
       "      <td>False</td>\n",
       "      <td>PUBLISHED</td>\n",
       "      <td>1098</td>\n",
       "      <td>6</td>\n",
       "      <td>1</td>\n",
       "      <td>10.980000</td>\n",
       "    </tr>\n",
       "    <tr>\n",
       "      <th>75</th>\n",
       "      <td>75</td>\n",
       "      <td>百萬 YouTuber 阿滴－攻心剪輯術！</td>\n",
       "      <td>阿滴 x 圖文不符</td>\n",
       "      <td>2019-03-19</td>\n",
       "      <td>2019-02-18</td>\n",
       "      <td>2019-05-18</td>\n",
       "      <td>2019-02-18T04:00:00.000Z</td>\n",
       "      <td>['PHYSICAL', 'DIGITAL']</td>\n",
       "      <td>237</td>\n",
       "      <td>4.92</td>\n",
       "      <td>False</td>\n",
       "      <td>100</td>\n",
       "      <td>1200</td>\n",
       "      <td>1800</td>\n",
       "      <td>False</td>\n",
       "      <td>PUBLISHED</td>\n",
       "      <td>7619</td>\n",
       "      <td>3</td>\n",
       "      <td>1</td>\n",
       "      <td>76.190000</td>\n",
       "    </tr>\n",
       "    <tr>\n",
       "      <th>164</th>\n",
       "      <td>164</td>\n",
       "      <td>獵頭顧問 S 姐帶你健檢人生職涯</td>\n",
       "      <td>江湖人稱S姐</td>\n",
       "      <td>2018-05-25</td>\n",
       "      <td>2018-04-26</td>\n",
       "      <td>2018-07-24</td>\n",
       "      <td>NaN</td>\n",
       "      <td>[]</td>\n",
       "      <td>101</td>\n",
       "      <td>4.89</td>\n",
       "      <td>False</td>\n",
       "      <td>50</td>\n",
       "      <td>1200</td>\n",
       "      <td>1888</td>\n",
       "      <td>False</td>\n",
       "      <td>PUBLISHED</td>\n",
       "      <td>769</td>\n",
       "      <td>5</td>\n",
       "      <td>1</td>\n",
       "      <td>15.380000</td>\n",
       "    </tr>\n",
       "    <tr>\n",
       "      <th>217</th>\n",
       "      <td>217</td>\n",
       "      <td>Python 資料分析＆機器學習入門</td>\n",
       "      <td>Yeh James</td>\n",
       "      <td>2017-09-23</td>\n",
       "      <td>2017-08-25</td>\n",
       "      <td>2017-11-22</td>\n",
       "      <td>NaN</td>\n",
       "      <td>[]</td>\n",
       "      <td>104</td>\n",
       "      <td>4.88</td>\n",
       "      <td>False</td>\n",
       "      <td>50</td>\n",
       "      <td>1000</td>\n",
       "      <td>2500</td>\n",
       "      <td>False</td>\n",
       "      <td>PUBLISHED</td>\n",
       "      <td>1287</td>\n",
       "      <td>9</td>\n",
       "      <td>1</td>\n",
       "      <td>25.740000</td>\n",
       "    </tr>\n",
       "    <tr>\n",
       "      <th>242</th>\n",
       "      <td>242</td>\n",
       "      <td>如何練習動漫速寫</td>\n",
       "      <td>空罐王</td>\n",
       "      <td>2017-05-29</td>\n",
       "      <td>2017-04-29</td>\n",
       "      <td>2017-07-28</td>\n",
       "      <td>NaN</td>\n",
       "      <td>[]</td>\n",
       "      <td>120</td>\n",
       "      <td>4.88</td>\n",
       "      <td>False</td>\n",
       "      <td>30</td>\n",
       "      <td>500</td>\n",
       "      <td>600</td>\n",
       "      <td>False</td>\n",
       "      <td>PUBLISHED</td>\n",
       "      <td>1521</td>\n",
       "      <td>5</td>\n",
       "      <td>1</td>\n",
       "      <td>50.700000</td>\n",
       "    </tr>\n",
       "    <tr>\n",
       "      <th>278</th>\n",
       "      <td>278</td>\n",
       "      <td>邊走邊畫，帶著手帳旅行去！</td>\n",
       "      <td>Reiko Chen</td>\n",
       "      <td>2016-11-13</td>\n",
       "      <td>2016-10-14</td>\n",
       "      <td>2016-12-13</td>\n",
       "      <td>NaN</td>\n",
       "      <td>[]</td>\n",
       "      <td>128</td>\n",
       "      <td>4.88</td>\n",
       "      <td>False</td>\n",
       "      <td>30</td>\n",
       "      <td>700</td>\n",
       "      <td>850</td>\n",
       "      <td>False</td>\n",
       "      <td>PUBLISHED</td>\n",
       "      <td>1288</td>\n",
       "      <td>11</td>\n",
       "      <td>1</td>\n",
       "      <td>42.933333</td>\n",
       "    </tr>\n",
       "    <tr>\n",
       "      <th>352</th>\n",
       "      <td>352</td>\n",
       "      <td>旅行中手繪建築插畫，你也可以！</td>\n",
       "      <td>Peichi Wu</td>\n",
       "      <td>2016-01-07</td>\n",
       "      <td>2015-12-08</td>\n",
       "      <td>2016-02-06</td>\n",
       "      <td>NaN</td>\n",
       "      <td>[]</td>\n",
       "      <td>110</td>\n",
       "      <td>4.88</td>\n",
       "      <td>False</td>\n",
       "      <td>35</td>\n",
       "      <td>400</td>\n",
       "      <td>500</td>\n",
       "      <td>False</td>\n",
       "      <td>PUBLISHED</td>\n",
       "      <td>929</td>\n",
       "      <td>1</td>\n",
       "      <td>1</td>\n",
       "      <td>26.542857</td>\n",
       "    </tr>\n",
       "    <tr>\n",
       "      <th>339</th>\n",
       "      <td>339</td>\n",
       "      <td>AE/MG || 動畫特效 Vol.1</td>\n",
       "      <td>Yan-K</td>\n",
       "      <td>2016-03-24</td>\n",
       "      <td>2016-02-23</td>\n",
       "      <td>2016-04-30</td>\n",
       "      <td>NaN</td>\n",
       "      <td>[]</td>\n",
       "      <td>149</td>\n",
       "      <td>4.86</td>\n",
       "      <td>False</td>\n",
       "      <td>50</td>\n",
       "      <td>1000</td>\n",
       "      <td>1500</td>\n",
       "      <td>False</td>\n",
       "      <td>PUBLISHED</td>\n",
       "      <td>3395</td>\n",
       "      <td>3</td>\n",
       "      <td>1</td>\n",
       "      <td>67.900000</td>\n",
       "    </tr>\n",
       "    <tr>\n",
       "      <th>106</th>\n",
       "      <td>106</td>\n",
       "      <td>用手機捕捉瞬息美好-IPPA 冠軍的攝影心法</td>\n",
       "      <td>Paddy Chao 趙培均</td>\n",
       "      <td>2018-11-30</td>\n",
       "      <td>2018-11-01</td>\n",
       "      <td>2019-01-29</td>\n",
       "      <td>2018-11-01T04:00:00.000Z</td>\n",
       "      <td>['DIGITAL']</td>\n",
       "      <td>138</td>\n",
       "      <td>4.85</td>\n",
       "      <td>False</td>\n",
       "      <td>50</td>\n",
       "      <td>1400</td>\n",
       "      <td>1800</td>\n",
       "      <td>False</td>\n",
       "      <td>PUBLISHED</td>\n",
       "      <td>926</td>\n",
       "      <td>11</td>\n",
       "      <td>1</td>\n",
       "      <td>18.520000</td>\n",
       "    </tr>\n",
       "    <tr>\n",
       "      <th>234</th>\n",
       "      <td>234</td>\n",
       "      <td>履歷面試大剖析－網路科技外商求職技巧</td>\n",
       "      <td>Coey Lam</td>\n",
       "      <td>2017-07-21</td>\n",
       "      <td>2017-06-21</td>\n",
       "      <td>2017-08-20</td>\n",
       "      <td>NaN</td>\n",
       "      <td>[]</td>\n",
       "      <td>101</td>\n",
       "      <td>4.82</td>\n",
       "      <td>False</td>\n",
       "      <td>30</td>\n",
       "      <td>699</td>\n",
       "      <td>899</td>\n",
       "      <td>False</td>\n",
       "      <td>PUBLISHED</td>\n",
       "      <td>529</td>\n",
       "      <td>7</td>\n",
       "      <td>1</td>\n",
       "      <td>17.633333</td>\n",
       "    </tr>\n",
       "    <tr>\n",
       "      <th>213</th>\n",
       "      <td>213</td>\n",
       "      <td>給對 Premiere 毫無頭緒的你：最完整的 8 堂課</td>\n",
       "      <td>李歐</td>\n",
       "      <td>2017-10-14</td>\n",
       "      <td>2017-09-15</td>\n",
       "      <td>2017-11-13</td>\n",
       "      <td>NaN</td>\n",
       "      <td>[]</td>\n",
       "      <td>111</td>\n",
       "      <td>4.80</td>\n",
       "      <td>False</td>\n",
       "      <td>50</td>\n",
       "      <td>800</td>\n",
       "      <td>1200</td>\n",
       "      <td>False</td>\n",
       "      <td>PUBLISHED</td>\n",
       "      <td>959</td>\n",
       "      <td>10</td>\n",
       "      <td>1</td>\n",
       "      <td>19.180000</td>\n",
       "    </tr>\n",
       "    <tr>\n",
       "      <th>317</th>\n",
       "      <td>317</td>\n",
       "      <td>用隨處可得的平價筆寫一手美字</td>\n",
       "      <td>葉曄</td>\n",
       "      <td>2016-06-11</td>\n",
       "      <td>2016-05-12</td>\n",
       "      <td>2016-06-26</td>\n",
       "      <td>NaN</td>\n",
       "      <td>[]</td>\n",
       "      <td>153</td>\n",
       "      <td>4.80</td>\n",
       "      <td>False</td>\n",
       "      <td>50</td>\n",
       "      <td>650</td>\n",
       "      <td>800</td>\n",
       "      <td>False</td>\n",
       "      <td>PUBLISHED</td>\n",
       "      <td>1645</td>\n",
       "      <td>6</td>\n",
       "      <td>1</td>\n",
       "      <td>32.900000</td>\n",
       "    </tr>\n",
       "    <tr>\n",
       "      <th>320</th>\n",
       "      <td>320</td>\n",
       "      <td>讓圖不只是好看的－資訊設計思考力！</td>\n",
       "      <td>圖文不符</td>\n",
       "      <td>2016-06-08</td>\n",
       "      <td>2016-05-09</td>\n",
       "      <td>2016-08-07</td>\n",
       "      <td>NaN</td>\n",
       "      <td>[]</td>\n",
       "      <td>213</td>\n",
       "      <td>4.60</td>\n",
       "      <td>False</td>\n",
       "      <td>100</td>\n",
       "      <td>990</td>\n",
       "      <td>1800</td>\n",
       "      <td>False</td>\n",
       "      <td>PUBLISHED</td>\n",
       "      <td>13581</td>\n",
       "      <td>6</td>\n",
       "      <td>1</td>\n",
       "      <td>135.810000</td>\n",
       "    </tr>\n",
       "  </tbody>\n",
       "</table>\n",
       "</div>"
      ],
      "text/plain": [
       "     Unnamed: 0                         title                author  \\\n",
       "209         209           打動人心的創作秘密，畫出個性的角色設計                   水晶孔   \n",
       "240         240           不必下蠱的人心攻略術 — 小說實戰技術                   朱宥勳   \n",
       "180         180         用 Python 理財：打造小資族選股策略                FinLab   \n",
       "314         314      動畫互動網頁程式入門 (HTML/CSS/JS)                   吳哲宇   \n",
       "216         216            當個水彩甜點師 — 雪莉的午茶繪畫課              Sherry雪莉   \n",
       "329         329        Cartoon 插畫 - 人物篇 (●—●)              JUN CHIU   \n",
       "178         178            240 分鐘 - 忘掉拍照，學會攝影           子雍 Tzu-Yung   \n",
       "207         207                  小資族理財的第一堂入門課                   李柏鋒   \n",
       "108         108               興趣變副業！打造自己的手作品牌                   張譯蓁   \n",
       "206         206          社群力：30 堂課突破你的內容行銷盲點！                  圖文不符   \n",
       "212         212             資料庫設計 - 有效的使用系統資料                  Ryan   \n",
       "189         189   台科 EMBA 年年爆滿的一門 Word 課（A系列）               Tina Wu   \n",
       "210         210  【Illustrator / Ai 入門】五小時保證上手                李宇哲｜蒟蒻   \n",
       "61           61          15 單元看懂經濟運行，掌握全球投資趨勢           Rachel Chen   \n",
       "133         133          啾啾鞋的資料彙整術 - 別淹沒在資訊海！            chuchushoe   \n",
       "47           47                職場必備的批判思考力：基礎篇  Weihang Lidance Chou   \n",
       "75           75         百萬 YouTuber 阿滴－攻心剪輯術！             阿滴 x 圖文不符   \n",
       "164         164              獵頭顧問 S 姐帶你健檢人生職涯                江湖人稱S姐   \n",
       "217         217            Python 資料分析＆機器學習入門             Yeh James   \n",
       "242         242                      如何練習動漫速寫                   空罐王   \n",
       "278         278                 邊走邊畫，帶著手帳旅行去！            Reiko Chen   \n",
       "352         352               旅行中手繪建築插畫，你也可以！             Peichi Wu   \n",
       "339         339           AE/MG || 動畫特效 Vol.1                 Yan-K   \n",
       "106         106        用手機捕捉瞬息美好-IPPA 冠軍的攝影心法        Paddy Chao 趙培均   \n",
       "234         234            履歷面試大剖析－網路科技外商求職技巧              Coey Lam   \n",
       "213         213  給對 Premiere 毫無頭緒的你：最完整的 8 堂課                    李歐   \n",
       "317         317                用隨處可得的平價筆寫一手美字                    葉曄   \n",
       "320         320             讓圖不只是好看的－資訊設計思考力！                  圖文不符   \n",
       "\n",
       "       proposal    incubate estimateStart              startCapital  \\\n",
       "209  2017-10-25  2017-09-26    2017-11-30                       NaN   \n",
       "240  2017-06-04  2017-05-05    2017-08-03                       NaN   \n",
       "180  2018-03-23  2018-02-22    2018-05-22                       NaN   \n",
       "314  2016-07-03  2016-06-03    2016-09-01                       NaN   \n",
       "216  2017-09-27  2017-08-29    2017-11-26                       NaN   \n",
       "329  2016-05-09  2016-04-09    2016-07-08                       NaN   \n",
       "178  2018-03-28  2018-02-27    2018-05-27                       NaN   \n",
       "207  2017-10-31  2017-10-02    2017-12-30                       NaN   \n",
       "108  2018-11-28  2018-10-30    2019-01-27                       NaN   \n",
       "206  2017-11-15  2017-10-17    2018-01-14                       NaN   \n",
       "212  2017-10-20  2017-09-21    2017-12-19                       NaN   \n",
       "189  2018-01-18  2017-12-20    2018-03-19                       NaN   \n",
       "210  2017-10-24  2017-09-25    2017-12-23                       NaN   \n",
       "61   2019-05-15  2019-04-16    2019-07-14  2019-04-16T04:00:00.000Z   \n",
       "133  2018-08-31  2018-08-02    2018-10-30                       NaN   \n",
       "47   2019-06-21  2019-05-23    2019-07-21                       NaN   \n",
       "75   2019-03-19  2019-02-18    2019-05-18  2019-02-18T04:00:00.000Z   \n",
       "164  2018-05-25  2018-04-26    2018-07-24                       NaN   \n",
       "217  2017-09-23  2017-08-25    2017-11-22                       NaN   \n",
       "242  2017-05-29  2017-04-29    2017-07-28                       NaN   \n",
       "278  2016-11-13  2016-10-14    2016-12-13                       NaN   \n",
       "352  2016-01-07  2015-12-08    2016-02-06                       NaN   \n",
       "339  2016-03-24  2016-02-23    2016-04-30                       NaN   \n",
       "106  2018-11-30  2018-11-01    2019-01-29  2018-11-01T04:00:00.000Z   \n",
       "234  2017-07-21  2017-06-21    2017-08-20                       NaN   \n",
       "213  2017-10-14  2017-09-15    2017-11-13                       NaN   \n",
       "317  2016-06-11  2016-05-12    2016-06-26                       NaN   \n",
       "320  2016-06-08  2016-05-09    2016-08-07                       NaN   \n",
       "\n",
       "                       types  ratings  avg_ratings  isReject  successCriti  \\\n",
       "209                       []      168         4.99     False           100   \n",
       "240                       []      101         4.98     False            30   \n",
       "180                       []      425         4.98     False            30   \n",
       "314                       []      262         4.97     False            50   \n",
       "216                       []      139         4.96     False            30   \n",
       "329                       []      136         4.96     False            30   \n",
       "178                       []      170         4.96     False           120   \n",
       "207                       []      218         4.96     False            60   \n",
       "108                       []      120         4.95     False            30   \n",
       "206                       []      129         4.95     False           100   \n",
       "212                       []      104         4.94     False            50   \n",
       "189                       []      112         4.94     False            30   \n",
       "210                       []      117         4.94     False            30   \n",
       "61               ['DIGITAL']      235         4.94     False           100   \n",
       "133                       []      105         4.93     False           100   \n",
       "47                        []      127         4.92     False           100   \n",
       "75   ['PHYSICAL', 'DIGITAL']      237         4.92     False           100   \n",
       "164                       []      101         4.89     False            50   \n",
       "217                       []      104         4.88     False            50   \n",
       "242                       []      120         4.88     False            30   \n",
       "278                       []      128         4.88     False            30   \n",
       "352                       []      110         4.88     False            35   \n",
       "339                       []      149         4.86     False            50   \n",
       "106              ['DIGITAL']      138         4.85     False            50   \n",
       "234                       []      101         4.82     False            30   \n",
       "213                       []      111         4.80     False            50   \n",
       "317                       []      153         4.80     False            50   \n",
       "320                       []      213         4.60     False           100   \n",
       "\n",
       "     prePrice  price  review     status  solidTickets  pro_month  have  \\\n",
       "209       880   1280   False  PUBLISHED          3262         10     1   \n",
       "240       800   1500   False  PUBLISHED          1642          6     1   \n",
       "180      1999   3200   False  PUBLISHED          5529          3     1   \n",
       "314      1000   2000   False  PUBLISHED          5933          7     1   \n",
       "216       880   1200   False  PUBLISHED          1135          9     1   \n",
       "329       300    500   False  PUBLISHED          1392          5     1   \n",
       "178      1490   2049   False  PUBLISHED          2512          3     1   \n",
       "207       888   1688   False  PUBLISHED          1647         10     1   \n",
       "108      1500   2500   False  PUBLISHED           806         11     1   \n",
       "206      1880   2400   False  PUBLISHED          5508         11     1   \n",
       "212       980   1890   False  PUBLISHED           449         10     1   \n",
       "189       550    950   False  PUBLISHED          1100          1     1   \n",
       "210       990   1590   False  PUBLISHED          1573         10     1   \n",
       "61       2490   3600   False  PUBLISHED          3706          5     1   \n",
       "133      1000   1500   False  PUBLISHED          1495          8     1   \n",
       "47        399    499   False  PUBLISHED          1098          6     1   \n",
       "75       1200   1800   False  PUBLISHED          7619          3     1   \n",
       "164      1200   1888   False  PUBLISHED           769          5     1   \n",
       "217      1000   2500   False  PUBLISHED          1287          9     1   \n",
       "242       500    600   False  PUBLISHED          1521          5     1   \n",
       "278       700    850   False  PUBLISHED          1288         11     1   \n",
       "352       400    500   False  PUBLISHED           929          1     1   \n",
       "339      1000   1500   False  PUBLISHED          3395          3     1   \n",
       "106      1400   1800   False  PUBLISHED           926         11     1   \n",
       "234       699    899   False  PUBLISHED           529          7     1   \n",
       "213       800   1200   False  PUBLISHED           959         10     1   \n",
       "317       650    800   False  PUBLISHED          1645          6     1   \n",
       "320       990   1800   False  PUBLISHED         13581          6     1   \n",
       "\n",
       "          await  \n",
       "209   32.620000  \n",
       "240   54.733333  \n",
       "180  184.300000  \n",
       "314  118.660000  \n",
       "216   37.833333  \n",
       "329   46.400000  \n",
       "178   20.933333  \n",
       "207   27.450000  \n",
       "108   26.866667  \n",
       "206   55.080000  \n",
       "212    8.980000  \n",
       "189   36.666667  \n",
       "210   52.433333  \n",
       "61    37.060000  \n",
       "133   14.950000  \n",
       "47    10.980000  \n",
       "75    76.190000  \n",
       "164   15.380000  \n",
       "217   25.740000  \n",
       "242   50.700000  \n",
       "278   42.933333  \n",
       "352   26.542857  \n",
       "339   67.900000  \n",
       "106   18.520000  \n",
       "234   17.633333  \n",
       "213   19.180000  \n",
       "317   32.900000  \n",
       "320  135.810000  "
      ]
     },
     "execution_count": 78,
     "metadata": {},
     "output_type": "execute_result"
    }
   ],
   "source": [
    "df[df.ratings>100].sort_values('avg_ratings', ascending=False)"
   ]
  },
  {
   "cell_type": "code",
   "execution_count": 79,
   "metadata": {},
   "outputs": [
    {
     "data": {
      "text/html": [
       "<div>\n",
       "<style scoped>\n",
       "    .dataframe tbody tr th:only-of-type {\n",
       "        vertical-align: middle;\n",
       "    }\n",
       "\n",
       "    .dataframe tbody tr th {\n",
       "        vertical-align: top;\n",
       "    }\n",
       "\n",
       "    .dataframe thead th {\n",
       "        text-align: right;\n",
       "    }\n",
       "</style>\n",
       "<table border=\"1\" class=\"dataframe\">\n",
       "  <thead>\n",
       "    <tr style=\"text-align: right;\">\n",
       "      <th></th>\n",
       "      <th>Unnamed: 0</th>\n",
       "      <th>title</th>\n",
       "      <th>author</th>\n",
       "      <th>proposal</th>\n",
       "      <th>incubate</th>\n",
       "      <th>estimateStart</th>\n",
       "      <th>startCapital</th>\n",
       "      <th>types</th>\n",
       "      <th>ratings</th>\n",
       "      <th>avg_ratings</th>\n",
       "      <th>isReject</th>\n",
       "      <th>successCriti</th>\n",
       "      <th>prePrice</th>\n",
       "      <th>price</th>\n",
       "      <th>review</th>\n",
       "      <th>status</th>\n",
       "      <th>solidTickets</th>\n",
       "      <th>pro_month</th>\n",
       "      <th>have</th>\n",
       "      <th>await</th>\n",
       "    </tr>\n",
       "  </thead>\n",
       "  <tbody>\n",
       "    <tr>\n",
       "      <th>75</th>\n",
       "      <td>75</td>\n",
       "      <td>百萬 YouTuber 阿滴－攻心剪輯術！</td>\n",
       "      <td>阿滴 x 圖文不符</td>\n",
       "      <td>2019-03-19</td>\n",
       "      <td>2019-02-18</td>\n",
       "      <td>2019-05-18</td>\n",
       "      <td>2019-02-18T04:00:00.000Z</td>\n",
       "      <td>['PHYSICAL', 'DIGITAL']</td>\n",
       "      <td>237</td>\n",
       "      <td>4.92</td>\n",
       "      <td>False</td>\n",
       "      <td>100</td>\n",
       "      <td>1200</td>\n",
       "      <td>1800</td>\n",
       "      <td>False</td>\n",
       "      <td>PUBLISHED</td>\n",
       "      <td>7619</td>\n",
       "      <td>3</td>\n",
       "      <td>1</td>\n",
       "      <td>76.19</td>\n",
       "    </tr>\n",
       "    <tr>\n",
       "      <th>180</th>\n",
       "      <td>180</td>\n",
       "      <td>用 Python 理財：打造小資族選股策略</td>\n",
       "      <td>FinLab</td>\n",
       "      <td>2018-03-23</td>\n",
       "      <td>2018-02-22</td>\n",
       "      <td>2018-05-22</td>\n",
       "      <td>NaN</td>\n",
       "      <td>[]</td>\n",
       "      <td>425</td>\n",
       "      <td>4.98</td>\n",
       "      <td>False</td>\n",
       "      <td>30</td>\n",
       "      <td>1999</td>\n",
       "      <td>3200</td>\n",
       "      <td>False</td>\n",
       "      <td>PUBLISHED</td>\n",
       "      <td>5529</td>\n",
       "      <td>3</td>\n",
       "      <td>1</td>\n",
       "      <td>184.30</td>\n",
       "    </tr>\n",
       "    <tr>\n",
       "      <th>206</th>\n",
       "      <td>206</td>\n",
       "      <td>社群力：30 堂課突破你的內容行銷盲點！</td>\n",
       "      <td>圖文不符</td>\n",
       "      <td>2017-11-15</td>\n",
       "      <td>2017-10-17</td>\n",
       "      <td>2018-01-14</td>\n",
       "      <td>NaN</td>\n",
       "      <td>[]</td>\n",
       "      <td>129</td>\n",
       "      <td>4.95</td>\n",
       "      <td>False</td>\n",
       "      <td>100</td>\n",
       "      <td>1880</td>\n",
       "      <td>2400</td>\n",
       "      <td>False</td>\n",
       "      <td>PUBLISHED</td>\n",
       "      <td>5508</td>\n",
       "      <td>11</td>\n",
       "      <td>1</td>\n",
       "      <td>55.08</td>\n",
       "    </tr>\n",
       "    <tr>\n",
       "      <th>314</th>\n",
       "      <td>314</td>\n",
       "      <td>動畫互動網頁程式入門 (HTML/CSS/JS)</td>\n",
       "      <td>吳哲宇</td>\n",
       "      <td>2016-07-03</td>\n",
       "      <td>2016-06-03</td>\n",
       "      <td>2016-09-01</td>\n",
       "      <td>NaN</td>\n",
       "      <td>[]</td>\n",
       "      <td>262</td>\n",
       "      <td>4.97</td>\n",
       "      <td>False</td>\n",
       "      <td>50</td>\n",
       "      <td>1000</td>\n",
       "      <td>2000</td>\n",
       "      <td>False</td>\n",
       "      <td>PUBLISHED</td>\n",
       "      <td>5933</td>\n",
       "      <td>7</td>\n",
       "      <td>1</td>\n",
       "      <td>118.66</td>\n",
       "    </tr>\n",
       "    <tr>\n",
       "      <th>320</th>\n",
       "      <td>320</td>\n",
       "      <td>讓圖不只是好看的－資訊設計思考力！</td>\n",
       "      <td>圖文不符</td>\n",
       "      <td>2016-06-08</td>\n",
       "      <td>2016-05-09</td>\n",
       "      <td>2016-08-07</td>\n",
       "      <td>NaN</td>\n",
       "      <td>[]</td>\n",
       "      <td>213</td>\n",
       "      <td>4.60</td>\n",
       "      <td>False</td>\n",
       "      <td>100</td>\n",
       "      <td>990</td>\n",
       "      <td>1800</td>\n",
       "      <td>False</td>\n",
       "      <td>PUBLISHED</td>\n",
       "      <td>13581</td>\n",
       "      <td>6</td>\n",
       "      <td>1</td>\n",
       "      <td>135.81</td>\n",
       "    </tr>\n",
       "  </tbody>\n",
       "</table>\n",
       "</div>"
      ],
      "text/plain": [
       "     Unnamed: 0                     title     author    proposal    incubate  \\\n",
       "75           75     百萬 YouTuber 阿滴－攻心剪輯術！  阿滴 x 圖文不符  2019-03-19  2019-02-18   \n",
       "180         180     用 Python 理財：打造小資族選股策略     FinLab  2018-03-23  2018-02-22   \n",
       "206         206      社群力：30 堂課突破你的內容行銷盲點！       圖文不符  2017-11-15  2017-10-17   \n",
       "314         314  動畫互動網頁程式入門 (HTML/CSS/JS)        吳哲宇  2016-07-03  2016-06-03   \n",
       "320         320         讓圖不只是好看的－資訊設計思考力！       圖文不符  2016-06-08  2016-05-09   \n",
       "\n",
       "    estimateStart              startCapital                    types  ratings  \\\n",
       "75     2019-05-18  2019-02-18T04:00:00.000Z  ['PHYSICAL', 'DIGITAL']      237   \n",
       "180    2018-05-22                       NaN                       []      425   \n",
       "206    2018-01-14                       NaN                       []      129   \n",
       "314    2016-09-01                       NaN                       []      262   \n",
       "320    2016-08-07                       NaN                       []      213   \n",
       "\n",
       "     avg_ratings  isReject  successCriti  prePrice  price  review     status  \\\n",
       "75          4.92     False           100      1200   1800   False  PUBLISHED   \n",
       "180         4.98     False            30      1999   3200   False  PUBLISHED   \n",
       "206         4.95     False           100      1880   2400   False  PUBLISHED   \n",
       "314         4.97     False            50      1000   2000   False  PUBLISHED   \n",
       "320         4.60     False           100       990   1800   False  PUBLISHED   \n",
       "\n",
       "     solidTickets  pro_month  have   await  \n",
       "75           7619          3     1   76.19  \n",
       "180          5529          3     1  184.30  \n",
       "206          5508         11     1   55.08  \n",
       "314          5933          7     1  118.66  \n",
       "320         13581          6     1  135.81  "
      ]
     },
     "execution_count": 79,
     "metadata": {},
     "output_type": "execute_result"
    }
   ],
   "source": [
    "df[df.solidTickets >5000]"
   ]
  },
  {
   "cell_type": "code",
   "execution_count": 83,
   "metadata": {},
   "outputs": [
    {
     "name": "stdout",
     "output_type": "stream",
     "text": [
      "No Buy the class num: \n",
      " 0.7469550876856964\n"
     ]
    },
    {
     "data": {
      "text/plain": [
       "Text(0.5, 0, 'come to class num')"
      ]
     },
     "execution_count": 83,
     "metadata": {},
     "output_type": "execute_result"
    },
    {
     "data": {
      "image/png": "[encoded data removed]",
      "text/plain": [
       "<Figure size 1296x432 with 1 Axes>"
      ]
     },
     "metadata": {},
     "output_type": "display_data"
    }
   ],
   "source": [
    "plt.figure(figsize=(18, 6))\n",
    "print('No Buy the class num: \\n', np.corrcoef(df.solidTickets, df.ratings)[1,0])\n",
    "sns.lineplot(df.solidTickets, df.ratings)\n",
    "plt.scatter(df.solidTickets, df.ratings)\n",
    "plt.title('not come to class num is True', fontsize = 20)\n",
    "plt.xlabel('come to class num', fontsize=15)"
   ]
  },
  {
   "cell_type": "code",
   "execution_count": 82,
   "metadata": {},
   "outputs": [
    {
     "data": {
      "text/html": [
       "<div>\n",
       "<style scoped>\n",
       "    .dataframe tbody tr th:only-of-type {\n",
       "        vertical-align: middle;\n",
       "    }\n",
       "\n",
       "    .dataframe tbody tr th {\n",
       "        vertical-align: top;\n",
       "    }\n",
       "\n",
       "    .dataframe thead th {\n",
       "        text-align: right;\n",
       "    }\n",
       "</style>\n",
       "<table border=\"1\" class=\"dataframe\">\n",
       "  <thead>\n",
       "    <tr style=\"text-align: right;\">\n",
       "      <th></th>\n",
       "      <th>Unnamed: 0</th>\n",
       "      <th>title</th>\n",
       "      <th>author</th>\n",
       "      <th>proposal</th>\n",
       "      <th>incubate</th>\n",
       "      <th>estimateStart</th>\n",
       "      <th>startCapital</th>\n",
       "      <th>types</th>\n",
       "      <th>ratings</th>\n",
       "      <th>avg_ratings</th>\n",
       "      <th>...</th>\n",
       "      <th>successCriti</th>\n",
       "      <th>prePrice</th>\n",
       "      <th>price</th>\n",
       "      <th>review</th>\n",
       "      <th>status</th>\n",
       "      <th>solidTickets</th>\n",
       "      <th>pro_month</th>\n",
       "      <th>have</th>\n",
       "      <th>await</th>\n",
       "      <th>feedback_ratio</th>\n",
       "    </tr>\n",
       "  </thead>\n",
       "  <tbody>\n",
       "    <tr>\n",
       "      <th>369</th>\n",
       "      <td>369</td>\n",
       "      <td>火箭發射飛行中 Rocket 1</td>\n",
       "      <td>Rainie Chiang</td>\n",
       "      <td>2015-08-23</td>\n",
       "      <td>2015-07-24</td>\n",
       "      <td>2015-08-24</td>\n",
       "      <td>NaN</td>\n",
       "      <td>[]</td>\n",
       "      <td>14</td>\n",
       "      <td>4.71</td>\n",
       "      <td>...</td>\n",
       "      <td>30</td>\n",
       "      <td>250</td>\n",
       "      <td>1200</td>\n",
       "      <td>False</td>\n",
       "      <td>PUBLISHED</td>\n",
       "      <td>53</td>\n",
       "      <td>8</td>\n",
       "      <td>1</td>\n",
       "      <td>1.766667</td>\n",
       "      <td>0.264151</td>\n",
       "    </tr>\n",
       "    <tr>\n",
       "      <th>212</th>\n",
       "      <td>212</td>\n",
       "      <td>資料庫設計 - 有效的使用系統資料</td>\n",
       "      <td>Ryan</td>\n",
       "      <td>2017-10-20</td>\n",
       "      <td>2017-09-21</td>\n",
       "      <td>2017-12-19</td>\n",
       "      <td>NaN</td>\n",
       "      <td>[]</td>\n",
       "      <td>104</td>\n",
       "      <td>4.94</td>\n",
       "      <td>...</td>\n",
       "      <td>50</td>\n",
       "      <td>980</td>\n",
       "      <td>1890</td>\n",
       "      <td>False</td>\n",
       "      <td>PUBLISHED</td>\n",
       "      <td>449</td>\n",
       "      <td>10</td>\n",
       "      <td>1</td>\n",
       "      <td>8.980000</td>\n",
       "      <td>0.231626</td>\n",
       "    </tr>\n",
       "    <tr>\n",
       "      <th>368</th>\n",
       "      <td>368</td>\n",
       "      <td>火箭飛船遊太空 Rocket 2</td>\n",
       "      <td>Rainie Chiang</td>\n",
       "      <td>2015-08-23</td>\n",
       "      <td>2015-07-24</td>\n",
       "      <td>2015-08-24</td>\n",
       "      <td>NaN</td>\n",
       "      <td>[]</td>\n",
       "      <td>10</td>\n",
       "      <td>5.00</td>\n",
       "      <td>...</td>\n",
       "      <td>30</td>\n",
       "      <td>250</td>\n",
       "      <td>1200</td>\n",
       "      <td>False</td>\n",
       "      <td>PUBLISHED</td>\n",
       "      <td>45</td>\n",
       "      <td>8</td>\n",
       "      <td>1</td>\n",
       "      <td>1.500000</td>\n",
       "      <td>0.222222</td>\n",
       "    </tr>\n",
       "    <tr>\n",
       "      <th>37</th>\n",
       "      <td>37</td>\n",
       "      <td>手作乾燥花 - 創造植感生活</td>\n",
       "      <td>Irene Hsu</td>\n",
       "      <td>2019-07-19</td>\n",
       "      <td>2019-06-20</td>\n",
       "      <td>2019-09-17</td>\n",
       "      <td>NaN</td>\n",
       "      <td>[]</td>\n",
       "      <td>23</td>\n",
       "      <td>5.00</td>\n",
       "      <td>...</td>\n",
       "      <td>30</td>\n",
       "      <td>1200</td>\n",
       "      <td>1800</td>\n",
       "      <td>False</td>\n",
       "      <td>PUBLISHED</td>\n",
       "      <td>111</td>\n",
       "      <td>7</td>\n",
       "      <td>1</td>\n",
       "      <td>3.700000</td>\n",
       "      <td>0.207207</td>\n",
       "    </tr>\n",
       "    <tr>\n",
       "      <th>186</th>\n",
       "      <td>186</td>\n",
       "      <td>【不會畫圖】也能學會動態LINE貼圖製作</td>\n",
       "      <td>阿狗阿貓</td>\n",
       "      <td>2018-02-16</td>\n",
       "      <td>2018-01-18</td>\n",
       "      <td>2018-04-17</td>\n",
       "      <td>NaN</td>\n",
       "      <td>[]</td>\n",
       "      <td>36</td>\n",
       "      <td>4.97</td>\n",
       "      <td>...</td>\n",
       "      <td>30</td>\n",
       "      <td>988</td>\n",
       "      <td>1488</td>\n",
       "      <td>False</td>\n",
       "      <td>PUBLISHED</td>\n",
       "      <td>182</td>\n",
       "      <td>2</td>\n",
       "      <td>1</td>\n",
       "      <td>6.066667</td>\n",
       "      <td>0.197802</td>\n",
       "    </tr>\n",
       "  </tbody>\n",
       "</table>\n",
       "<p>5 rows × 21 columns</p>\n",
       "</div>"
      ],
      "text/plain": [
       "     Unnamed: 0                 title         author    proposal    incubate  \\\n",
       "369         369      火箭發射飛行中 Rocket 1  Rainie Chiang  2015-08-23  2015-07-24   \n",
       "212         212     資料庫設計 - 有效的使用系統資料           Ryan  2017-10-20  2017-09-21   \n",
       "368         368      火箭飛船遊太空 Rocket 2  Rainie Chiang  2015-08-23  2015-07-24   \n",
       "37           37        手作乾燥花 - 創造植感生活      Irene Hsu  2019-07-19  2019-06-20   \n",
       "186         186  【不會畫圖】也能學會動態LINE貼圖製作           阿狗阿貓  2018-02-16  2018-01-18   \n",
       "\n",
       "    estimateStart startCapital types  ratings  avg_ratings  ...  successCriti  \\\n",
       "369    2015-08-24          NaN    []       14         4.71  ...            30   \n",
       "212    2017-12-19          NaN    []      104         4.94  ...            50   \n",
       "368    2015-08-24          NaN    []       10         5.00  ...            30   \n",
       "37     2019-09-17          NaN    []       23         5.00  ...            30   \n",
       "186    2018-04-17          NaN    []       36         4.97  ...            30   \n",
       "\n",
       "     prePrice  price  review     status solidTickets  pro_month  have  \\\n",
       "369       250   1200   False  PUBLISHED           53          8     1   \n",
       "212       980   1890   False  PUBLISHED          449         10     1   \n",
       "368       250   1200   False  PUBLISHED           45          8     1   \n",
       "37       1200   1800   False  PUBLISHED          111          7     1   \n",
       "186       988   1488   False  PUBLISHED          182          2     1   \n",
       "\n",
       "        await  feedback_ratio  \n",
       "369  1.766667        0.264151  \n",
       "212  8.980000        0.231626  \n",
       "368  1.500000        0.222222  \n",
       "37   3.700000        0.207207  \n",
       "186  6.066667        0.197802  \n",
       "\n",
       "[5 rows x 21 columns]"
      ]
     },
     "execution_count": 82,
     "metadata": {},
     "output_type": "execute_result"
    }
   ],
   "source": [
    "df['feedback_ratio'] = df.ratings / df.solidTickets\n",
    "df.sort_values('feedback_ratio', ascending=False).head()"
   ]
  },
  {
   "cell_type": "code",
   "execution_count": 87,
   "metadata": {},
   "outputs": [
    {
     "name": "stdout",
     "output_type": "stream",
     "text": [
      "count     384.000000\n",
      "mean     1103.903646\n",
      "std       676.481790\n",
      "min        99.000000\n",
      "25%       600.000000\n",
      "50%       990.000000\n",
      "75%      1500.000000\n",
      "max      4800.000000\n",
      "Name: prePrice, dtype: float64\n"
     ]
    },
    {
     "data": {
      "text/plain": [
       "Text(0.5, 0, 'Pre price')"
      ]
     },
     "execution_count": 87,
     "metadata": {},
     "output_type": "execute_result"
    },
    {
     "data": {
      "image/png": "[encoded data removed]",
      "text/plain": [
       "<Figure size 1080x432 with 1 Axes>"
      ]
     },
     "metadata": {},
     "output_type": "display_data"
    }
   ],
   "source": [
    "plt.style.use('ggplot')\n",
    "print(df.prePrice.describe())\n",
    "plt.figure(figsize= (15, 6))\n",
    "sns.distplot(df.prePrice, kde=True)\n",
    "plt.title('HaHow class is cheap and good', fontsize=30)\n",
    "plt.xlabel('Pre price', fontsize=20)"
   ]
  },
  {
   "cell_type": "code",
   "execution_count": 88,
   "metadata": {},
   "outputs": [
    {
     "name": "stdout",
     "output_type": "stream",
     "text": [
      "count     384.000000\n",
      "mean     1673.153646\n",
      "std       964.759503\n",
      "min       150.000000\n",
      "25%       996.750000\n",
      "50%      1595.000000\n",
      "75%      2200.000000\n",
      "max      7680.000000\n",
      "Name: price, dtype: float64\n"
     ]
    },
    {
     "data": {
      "text/plain": [
       "Text(0.5, 0, 'True price')"
      ]
     },
     "execution_count": 88,
     "metadata": {},
     "output_type": "execute_result"
    },
    {
     "data": {
      "image/png": "[encoded data removed]",
      "text/plain": [
       "<Figure size 1080x432 with 1 Axes>"
      ]
     },
     "metadata": {},
     "output_type": "display_data"
    }
   ],
   "source": [
    "plt.style.use('ggplot')\n",
    "print(df.price.describe())\n",
    "plt.figure(figsize= (15, 6))\n",
    "sns.distplot(df.prePrice, kde=True)\n",
    "plt.title('One Month buy one class investment owns is not bad', fontsize=30)\n",
    "plt.xlabel('True price', fontsize=20)"
   ]
  },
  {
   "cell_type": "code",
   "execution_count": null,
   "metadata": {},
   "outputs": [],
   "source": []
  }
 ],
 "metadata": {
  "kernelspec": {
   "display_name": "Python 3",
   "language": "python",
   "name": "python3"
  },
  "language_info": {
   "codemirror_mode": {
    "name": "ipython",
    "version": 3
   },
   "file_extension": ".py",
   "mimetype": "text/x-python",
   "name": "python",
   "nbconvert_exporter": "python",
   "pygments_lexer": "ipython3",
   "version": "3.7.8"
  }
 },
 "nbformat": 4,
 "nbformat_minor": 4
}
